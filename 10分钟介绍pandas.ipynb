{
  "nbformat": 4,
  "nbformat_minor": 0,
  "metadata": {
    "colab": {
      "name": "10分钟介绍pandas.ipynb",
      "provenance": [],
      "authorship_tag": "ABX9TyMeDhQp/26us+6scEJnEwoc",
      "include_colab_link": true
    },
    "kernelspec": {
      "name": "python3",
      "display_name": "Python 3"
    },
    "language_info": {
      "name": "python"
    }
  },
  "cells": [
    {
      "cell_type": "markdown",
      "metadata": {
        "id": "view-in-github",
        "colab_type": "text"
      },
      "source": [
        "<a href=\"https://colab.research.google.com/github/wuxbeyond/pandas-study/blob/main/10%E5%88%86%E9%92%9F%E4%BB%8B%E7%BB%8Dpandas.ipynb\" target=\"_parent\"><img src=\"https://colab.research.google.com/assets/colab-badge.svg\" alt=\"Open In Colab\"/></a>"
      ]
    },
    {
      "cell_type": "markdown",
      "metadata": {
        "id": "xMIUntVBWMrx"
      },
      "source": [
        "按照习惯导入包:"
      ]
    },
    {
      "cell_type": "code",
      "metadata": {
        "id": "oB1ynymzWUUy"
      },
      "source": [
        "import numpy as np\n",
        "import pandas as pd"
      ],
      "execution_count": null,
      "outputs": []
    },
    {
      "cell_type": "markdown",
      "metadata": {
        "id": "qIdaynhcWb56"
      },
      "source": [
        "通过传递list方式创建Series，pandas会创建一个默认的integer索引:"
      ]
    },
    {
      "cell_type": "code",
      "metadata": {
        "colab": {
          "base_uri": "https://localhost:8080/"
        },
        "id": "QOc-8i24W2wq",
        "outputId": "fb9cddfa-9b5e-4eac-e463-10d6d53ffc0d"
      },
      "source": [
        "s = pd.Series([1, 3, 5, np.nan, 6, 8])\n",
        "s"
      ],
      "execution_count": 67,
      "outputs": [
        {
          "output_type": "execute_result",
          "data": {
            "text/plain": [
              "0    1.0\n",
              "1    3.0\n",
              "2    5.0\n",
              "3    NaN\n",
              "4    6.0\n",
              "5    8.0\n",
              "dtype: float64"
            ]
          },
          "metadata": {
            "tags": []
          },
          "execution_count": 67
        }
      ]
    },
    {
      "cell_type": "markdown",
      "metadata": {
        "id": "sZ1nwoj0Xekd"
      },
      "source": [
        "Creating a DataFrame by passing a NumPy array, with a datetime index and labeled columns:"
      ]
    },
    {
      "cell_type": "code",
      "metadata": {
        "colab": {
          "base_uri": "https://localhost:8080/"
        },
        "id": "rv2F_mOhXflS",
        "outputId": "574bd256-ddbf-44f6-efc7-da2fab1d4cfc"
      },
      "source": [
        "dates = pd.date_range(start='20210101', periods=6)\n",
        "#print(dates)\n",
        "df = pd.DataFrame(np.random.randn(6, 4), index=dates, columns=list(\"ABCD\"))\n",
        "print(df)"
      ],
      "execution_count": 28,
      "outputs": [
        {
          "output_type": "stream",
          "text": [
            "                   A         B         C         D\n",
            "2021-01-01  0.944820  0.854512  1.509935 -0.003369\n",
            "2021-01-02 -0.461300 -1.247980 -0.925603  0.829463\n",
            "2021-01-03 -0.242981 -1.624977  0.828192  0.682485\n",
            "2021-01-04 -0.135280  0.403514 -0.826129 -0.958545\n",
            "2021-01-05  1.076673  2.032758  0.039274  0.123142\n",
            "2021-01-06  0.449803 -0.889349  0.187966 -0.215603\n"
          ],
          "name": "stdout"
        }
      ]
    },
    {
      "cell_type": "markdown",
      "metadata": {
        "id": "-whxkqT_YiUY"
      },
      "source": [
        "Creating a DataFrame by passing a dict of objects that can be converted to series-like."
      ]
    },
    {
      "cell_type": "code",
      "metadata": {
        "colab": {
          "base_uri": "https://localhost:8080/",
          "height": 173
        },
        "id": "3MAH-4XrYlsA",
        "outputId": "2efd532c-72d4-49ca-c877-801be482f576"
      },
      "source": [
        "df2 = pd.DataFrame(\n",
        "    {\n",
        "      \"A\": 1.0,\n",
        "      \"B\": pd.Timestamp(\"20210511\"),\n",
        "      \"C\": pd.Series(1,index=list(range(4)), dtype=\"float32\"),\n",
        "      \"D\": np.array([3] * 4, dtype=\"int32\"),\n",
        "      \"E\": pd.Categorical([\"test\", \"train\", \"test\", \"train\"]),\n",
        "      \"F\": \"foo\"\n",
        "    }\n",
        ")\n",
        "df2"
      ],
      "execution_count": 68,
      "outputs": [
        {
          "output_type": "execute_result",
          "data": {
            "text/html": [
              "<div>\n",
              "<style scoped>\n",
              "    .dataframe tbody tr th:only-of-type {\n",
              "        vertical-align: middle;\n",
              "    }\n",
              "\n",
              "    .dataframe tbody tr th {\n",
              "        vertical-align: top;\n",
              "    }\n",
              "\n",
              "    .dataframe thead th {\n",
              "        text-align: right;\n",
              "    }\n",
              "</style>\n",
              "<table border=\"1\" class=\"dataframe\">\n",
              "  <thead>\n",
              "    <tr style=\"text-align: right;\">\n",
              "      <th></th>\n",
              "      <th>A</th>\n",
              "      <th>B</th>\n",
              "      <th>C</th>\n",
              "      <th>D</th>\n",
              "      <th>E</th>\n",
              "      <th>F</th>\n",
              "    </tr>\n",
              "  </thead>\n",
              "  <tbody>\n",
              "    <tr>\n",
              "      <th>0</th>\n",
              "      <td>1.0</td>\n",
              "      <td>2021-05-11</td>\n",
              "      <td>1.0</td>\n",
              "      <td>3</td>\n",
              "      <td>test</td>\n",
              "      <td>foo</td>\n",
              "    </tr>\n",
              "    <tr>\n",
              "      <th>1</th>\n",
              "      <td>1.0</td>\n",
              "      <td>2021-05-11</td>\n",
              "      <td>1.0</td>\n",
              "      <td>3</td>\n",
              "      <td>train</td>\n",
              "      <td>foo</td>\n",
              "    </tr>\n",
              "    <tr>\n",
              "      <th>2</th>\n",
              "      <td>1.0</td>\n",
              "      <td>2021-05-11</td>\n",
              "      <td>1.0</td>\n",
              "      <td>3</td>\n",
              "      <td>test</td>\n",
              "      <td>foo</td>\n",
              "    </tr>\n",
              "    <tr>\n",
              "      <th>3</th>\n",
              "      <td>1.0</td>\n",
              "      <td>2021-05-11</td>\n",
              "      <td>1.0</td>\n",
              "      <td>3</td>\n",
              "      <td>train</td>\n",
              "      <td>foo</td>\n",
              "    </tr>\n",
              "  </tbody>\n",
              "</table>\n",
              "</div>"
            ],
            "text/plain": [
              "     A          B    C  D      E    F\n",
              "0  1.0 2021-05-11  1.0  3   test  foo\n",
              "1  1.0 2021-05-11  1.0  3  train  foo\n",
              "2  1.0 2021-05-11  1.0  3   test  foo\n",
              "3  1.0 2021-05-11  1.0  3  train  foo"
            ]
          },
          "metadata": {
            "tags": []
          },
          "execution_count": 68
        }
      ]
    },
    {
      "cell_type": "markdown",
      "metadata": {
        "id": "JgY-QxeTdMM4"
      },
      "source": [
        "The columns of the resulting DataFrame have different dtypes."
      ]
    },
    {
      "cell_type": "code",
      "metadata": {
        "colab": {
          "base_uri": "https://localhost:8080/"
        },
        "id": "sVfNVHTqdO2P",
        "outputId": "03359d7f-78d9-46b7-f046-d16c369b1a6f"
      },
      "source": [
        "df2.dtypes\n"
      ],
      "execution_count": 69,
      "outputs": [
        {
          "output_type": "execute_result",
          "data": {
            "text/plain": [
              "A           float64\n",
              "B    datetime64[ns]\n",
              "C           float32\n",
              "D             int32\n",
              "E          category\n",
              "F            object\n",
              "dtype: object"
            ]
          },
          "metadata": {
            "tags": []
          },
          "execution_count": 69
        }
      ]
    },
    {
      "cell_type": "markdown",
      "metadata": {
        "id": "J_6DLIJad8VM"
      },
      "source": [
        "Here is how to view the top and bottom rows of the frame:"
      ]
    },
    {
      "cell_type": "code",
      "metadata": {
        "colab": {
          "base_uri": "https://localhost:8080/",
          "height": 204
        },
        "id": "gwcePnnLd_Kx",
        "outputId": "76fec17a-2efa-4697-f897-bc85681c1b13"
      },
      "source": [
        "df.head()"
      ],
      "execution_count": 70,
      "outputs": [
        {
          "output_type": "execute_result",
          "data": {
            "text/html": [
              "<div>\n",
              "<style scoped>\n",
              "    .dataframe tbody tr th:only-of-type {\n",
              "        vertical-align: middle;\n",
              "    }\n",
              "\n",
              "    .dataframe tbody tr th {\n",
              "        vertical-align: top;\n",
              "    }\n",
              "\n",
              "    .dataframe thead th {\n",
              "        text-align: right;\n",
              "    }\n",
              "</style>\n",
              "<table border=\"1\" class=\"dataframe\">\n",
              "  <thead>\n",
              "    <tr style=\"text-align: right;\">\n",
              "      <th></th>\n",
              "      <th>A</th>\n",
              "      <th>B</th>\n",
              "      <th>C</th>\n",
              "      <th>D</th>\n",
              "    </tr>\n",
              "  </thead>\n",
              "  <tbody>\n",
              "    <tr>\n",
              "      <th>2021-01-01</th>\n",
              "      <td>0.944820</td>\n",
              "      <td>0.854512</td>\n",
              "      <td>1.509935</td>\n",
              "      <td>-0.003369</td>\n",
              "    </tr>\n",
              "    <tr>\n",
              "      <th>2021-01-02</th>\n",
              "      <td>-0.461300</td>\n",
              "      <td>-1.247980</td>\n",
              "      <td>-0.925603</td>\n",
              "      <td>0.829463</td>\n",
              "    </tr>\n",
              "    <tr>\n",
              "      <th>2021-01-03</th>\n",
              "      <td>-0.242981</td>\n",
              "      <td>-1.624977</td>\n",
              "      <td>0.828192</td>\n",
              "      <td>0.682485</td>\n",
              "    </tr>\n",
              "    <tr>\n",
              "      <th>2021-01-04</th>\n",
              "      <td>-0.135280</td>\n",
              "      <td>0.403514</td>\n",
              "      <td>-0.826129</td>\n",
              "      <td>-0.958545</td>\n",
              "    </tr>\n",
              "    <tr>\n",
              "      <th>2021-01-05</th>\n",
              "      <td>1.076673</td>\n",
              "      <td>2.032758</td>\n",
              "      <td>0.039274</td>\n",
              "      <td>0.123142</td>\n",
              "    </tr>\n",
              "  </tbody>\n",
              "</table>\n",
              "</div>"
            ],
            "text/plain": [
              "                   A         B         C         D\n",
              "2021-01-01  0.944820  0.854512  1.509935 -0.003369\n",
              "2021-01-02 -0.461300 -1.247980 -0.925603  0.829463\n",
              "2021-01-03 -0.242981 -1.624977  0.828192  0.682485\n",
              "2021-01-04 -0.135280  0.403514 -0.826129 -0.958545\n",
              "2021-01-05  1.076673  2.032758  0.039274  0.123142"
            ]
          },
          "metadata": {
            "tags": []
          },
          "execution_count": 70
        }
      ]
    },
    {
      "cell_type": "code",
      "metadata": {
        "colab": {
          "base_uri": "https://localhost:8080/",
          "height": 111
        },
        "id": "J0lp-8TxeWM3",
        "outputId": "3861f490-49d7-4e0f-eb7e-66570f765fe1"
      },
      "source": [
        "df.tail(2)"
      ],
      "execution_count": 71,
      "outputs": [
        {
          "output_type": "execute_result",
          "data": {
            "text/html": [
              "<div>\n",
              "<style scoped>\n",
              "    .dataframe tbody tr th:only-of-type {\n",
              "        vertical-align: middle;\n",
              "    }\n",
              "\n",
              "    .dataframe tbody tr th {\n",
              "        vertical-align: top;\n",
              "    }\n",
              "\n",
              "    .dataframe thead th {\n",
              "        text-align: right;\n",
              "    }\n",
              "</style>\n",
              "<table border=\"1\" class=\"dataframe\">\n",
              "  <thead>\n",
              "    <tr style=\"text-align: right;\">\n",
              "      <th></th>\n",
              "      <th>A</th>\n",
              "      <th>B</th>\n",
              "      <th>C</th>\n",
              "      <th>D</th>\n",
              "    </tr>\n",
              "  </thead>\n",
              "  <tbody>\n",
              "    <tr>\n",
              "      <th>2021-01-05</th>\n",
              "      <td>1.076673</td>\n",
              "      <td>2.032758</td>\n",
              "      <td>0.039274</td>\n",
              "      <td>0.123142</td>\n",
              "    </tr>\n",
              "    <tr>\n",
              "      <th>2021-01-06</th>\n",
              "      <td>0.449803</td>\n",
              "      <td>-0.889349</td>\n",
              "      <td>0.187966</td>\n",
              "      <td>-0.215603</td>\n",
              "    </tr>\n",
              "  </tbody>\n",
              "</table>\n",
              "</div>"
            ],
            "text/plain": [
              "                   A         B         C         D\n",
              "2021-01-05  1.076673  2.032758  0.039274  0.123142\n",
              "2021-01-06  0.449803 -0.889349  0.187966 -0.215603"
            ]
          },
          "metadata": {
            "tags": []
          },
          "execution_count": 71
        }
      ]
    },
    {
      "cell_type": "markdown",
      "metadata": {
        "id": "k4QBHCsceM0G"
      },
      "source": [
        "Display the index, columns:"
      ]
    },
    {
      "cell_type": "code",
      "metadata": {
        "colab": {
          "base_uri": "https://localhost:8080/"
        },
        "id": "VpZ7fdN3eNaK",
        "outputId": "aefcaca9-32ae-43a9-a18d-bb73aa290238"
      },
      "source": [
        "df.index"
      ],
      "execution_count": 72,
      "outputs": [
        {
          "output_type": "execute_result",
          "data": {
            "text/plain": [
              "DatetimeIndex(['2021-01-01', '2021-01-02', '2021-01-03', '2021-01-04',\n",
              "               '2021-01-05', '2021-01-06'],\n",
              "              dtype='datetime64[ns]', freq='D')"
            ]
          },
          "metadata": {
            "tags": []
          },
          "execution_count": 72
        }
      ]
    },
    {
      "cell_type": "code",
      "metadata": {
        "colab": {
          "base_uri": "https://localhost:8080/"
        },
        "id": "m04mjY6MeRSX",
        "outputId": "72083098-9002-4000-de08-3928ed6c4dda"
      },
      "source": [
        "df.columns"
      ],
      "execution_count": 73,
      "outputs": [
        {
          "output_type": "execute_result",
          "data": {
            "text/plain": [
              "Index(['A', 'B', 'C', 'D'], dtype='object')"
            ]
          },
          "metadata": {
            "tags": []
          },
          "execution_count": 73
        }
      ]
    },
    {
      "cell_type": "markdown",
      "metadata": {
        "id": "eI-FsLE0e8fB"
      },
      "source": [
        "For df, our DataFrame of all floating-point values, DataFrame.to_numpy() is fast and doesn’t require copying data.\n",
        "\n",
        "DataFrame.to_numpy() does not include the index or column labels in the output."
      ]
    },
    {
      "cell_type": "code",
      "metadata": {
        "colab": {
          "base_uri": "https://localhost:8080/"
        },
        "id": "T65yk1vNfB8k",
        "outputId": "cae20671-a34a-496b-9364-7f3e5cef5550"
      },
      "source": [
        "df.to_numpy()"
      ],
      "execution_count": 74,
      "outputs": [
        {
          "output_type": "execute_result",
          "data": {
            "text/plain": [
              "array([[ 0.94481961,  0.85451223,  1.50993475, -0.00336867],\n",
              "       [-0.46130039, -1.24797959, -0.92560262,  0.8294628 ],\n",
              "       [-0.24298059, -1.62497708,  0.82819179,  0.68248476],\n",
              "       [-0.13528015,  0.40351375, -0.82612941, -0.95854539],\n",
              "       [ 1.0766728 ,  2.03275787,  0.03927361,  0.12314155],\n",
              "       [ 0.44980267, -0.88934944,  0.18796608, -0.21560321]])"
            ]
          },
          "metadata": {
            "tags": []
          },
          "execution_count": 74
        }
      ]
    },
    {
      "cell_type": "markdown",
      "metadata": {
        "id": "XUqZGAB9fNZw"
      },
      "source": [
        "For df2, the DataFrame with multiple dtypes, DataFrame.to_numpy() is relatively expensive."
      ]
    },
    {
      "cell_type": "code",
      "metadata": {
        "colab": {
          "base_uri": "https://localhost:8080/"
        },
        "id": "FgSFl7j2fOaH",
        "outputId": "8f0055d1-3b73-403b-f158-f49bb9c20f25"
      },
      "source": [
        "df2.to_numpy()"
      ],
      "execution_count": 75,
      "outputs": [
        {
          "output_type": "execute_result",
          "data": {
            "text/plain": [
              "array([[1.0, Timestamp('2021-05-11 00:00:00'), 1.0, 3, 'test', 'foo'],\n",
              "       [1.0, Timestamp('2021-05-11 00:00:00'), 1.0, 3, 'train', 'foo'],\n",
              "       [1.0, Timestamp('2021-05-11 00:00:00'), 1.0, 3, 'test', 'foo'],\n",
              "       [1.0, Timestamp('2021-05-11 00:00:00'), 1.0, 3, 'train', 'foo']],\n",
              "      dtype=object)"
            ]
          },
          "metadata": {
            "tags": []
          },
          "execution_count": 75
        }
      ]
    },
    {
      "cell_type": "markdown",
      "metadata": {
        "id": "fz0uDYKsgxEX"
      },
      "source": [
        "describe() shows a quick statistic summary of your data:"
      ]
    },
    {
      "cell_type": "code",
      "metadata": {
        "colab": {
          "base_uri": "https://localhost:8080/",
          "height": 297
        },
        "id": "F8rhzHdEgyhe",
        "outputId": "c02f527e-b828-40fd-f4c2-9933381e76d8"
      },
      "source": [
        "df.describe()"
      ],
      "execution_count": 76,
      "outputs": [
        {
          "output_type": "execute_result",
          "data": {
            "text/html": [
              "<div>\n",
              "<style scoped>\n",
              "    .dataframe tbody tr th:only-of-type {\n",
              "        vertical-align: middle;\n",
              "    }\n",
              "\n",
              "    .dataframe tbody tr th {\n",
              "        vertical-align: top;\n",
              "    }\n",
              "\n",
              "    .dataframe thead th {\n",
              "        text-align: right;\n",
              "    }\n",
              "</style>\n",
              "<table border=\"1\" class=\"dataframe\">\n",
              "  <thead>\n",
              "    <tr style=\"text-align: right;\">\n",
              "      <th></th>\n",
              "      <th>A</th>\n",
              "      <th>B</th>\n",
              "      <th>C</th>\n",
              "      <th>D</th>\n",
              "    </tr>\n",
              "  </thead>\n",
              "  <tbody>\n",
              "    <tr>\n",
              "      <th>count</th>\n",
              "      <td>6.000000</td>\n",
              "      <td>6.000000</td>\n",
              "      <td>6.000000</td>\n",
              "      <td>6.000000</td>\n",
              "    </tr>\n",
              "    <tr>\n",
              "      <th>mean</th>\n",
              "      <td>0.271956</td>\n",
              "      <td>-0.078587</td>\n",
              "      <td>0.135606</td>\n",
              "      <td>0.076262</td>\n",
              "    </tr>\n",
              "    <tr>\n",
              "      <th>std</th>\n",
              "      <td>0.648168</td>\n",
              "      <td>1.412587</td>\n",
              "      <td>0.941443</td>\n",
              "      <td>0.647977</td>\n",
              "    </tr>\n",
              "    <tr>\n",
              "      <th>min</th>\n",
              "      <td>-0.461300</td>\n",
              "      <td>-1.624977</td>\n",
              "      <td>-0.925603</td>\n",
              "      <td>-0.958545</td>\n",
              "    </tr>\n",
              "    <tr>\n",
              "      <th>25%</th>\n",
              "      <td>-0.216055</td>\n",
              "      <td>-1.158322</td>\n",
              "      <td>-0.609779</td>\n",
              "      <td>-0.162545</td>\n",
              "    </tr>\n",
              "    <tr>\n",
              "      <th>50%</th>\n",
              "      <td>0.157261</td>\n",
              "      <td>-0.242918</td>\n",
              "      <td>0.113620</td>\n",
              "      <td>0.059886</td>\n",
              "    </tr>\n",
              "    <tr>\n",
              "      <th>75%</th>\n",
              "      <td>0.821065</td>\n",
              "      <td>0.741763</td>\n",
              "      <td>0.668135</td>\n",
              "      <td>0.542649</td>\n",
              "    </tr>\n",
              "    <tr>\n",
              "      <th>max</th>\n",
              "      <td>1.076673</td>\n",
              "      <td>2.032758</td>\n",
              "      <td>1.509935</td>\n",
              "      <td>0.829463</td>\n",
              "    </tr>\n",
              "  </tbody>\n",
              "</table>\n",
              "</div>"
            ],
            "text/plain": [
              "              A         B         C         D\n",
              "count  6.000000  6.000000  6.000000  6.000000\n",
              "mean   0.271956 -0.078587  0.135606  0.076262\n",
              "std    0.648168  1.412587  0.941443  0.647977\n",
              "min   -0.461300 -1.624977 -0.925603 -0.958545\n",
              "25%   -0.216055 -1.158322 -0.609779 -0.162545\n",
              "50%    0.157261 -0.242918  0.113620  0.059886\n",
              "75%    0.821065  0.741763  0.668135  0.542649\n",
              "max    1.076673  2.032758  1.509935  0.829463"
            ]
          },
          "metadata": {
            "tags": []
          },
          "execution_count": 76
        }
      ]
    },
    {
      "cell_type": "markdown",
      "metadata": {
        "id": "inzAXtIkhBef"
      },
      "source": [
        "Transposing your data:\n",
        "\n",
        "转置的过程其实是沿着左上与右下形成对角线进行翻转。"
      ]
    },
    {
      "cell_type": "code",
      "metadata": {
        "colab": {
          "base_uri": "https://localhost:8080/",
          "height": 173
        },
        "id": "w8HPY5SshDN_",
        "outputId": "5af62409-075c-4f89-8c7f-0f8bb7ed3f2e"
      },
      "source": [
        "df.T"
      ],
      "execution_count": 77,
      "outputs": [
        {
          "output_type": "execute_result",
          "data": {
            "text/html": [
              "<div>\n",
              "<style scoped>\n",
              "    .dataframe tbody tr th:only-of-type {\n",
              "        vertical-align: middle;\n",
              "    }\n",
              "\n",
              "    .dataframe tbody tr th {\n",
              "        vertical-align: top;\n",
              "    }\n",
              "\n",
              "    .dataframe thead th {\n",
              "        text-align: right;\n",
              "    }\n",
              "</style>\n",
              "<table border=\"1\" class=\"dataframe\">\n",
              "  <thead>\n",
              "    <tr style=\"text-align: right;\">\n",
              "      <th></th>\n",
              "      <th>2021-01-01</th>\n",
              "      <th>2021-01-02</th>\n",
              "      <th>2021-01-03</th>\n",
              "      <th>2021-01-04</th>\n",
              "      <th>2021-01-05</th>\n",
              "      <th>2021-01-06</th>\n",
              "    </tr>\n",
              "  </thead>\n",
              "  <tbody>\n",
              "    <tr>\n",
              "      <th>A</th>\n",
              "      <td>0.944820</td>\n",
              "      <td>-0.461300</td>\n",
              "      <td>-0.242981</td>\n",
              "      <td>-0.135280</td>\n",
              "      <td>1.076673</td>\n",
              "      <td>0.449803</td>\n",
              "    </tr>\n",
              "    <tr>\n",
              "      <th>B</th>\n",
              "      <td>0.854512</td>\n",
              "      <td>-1.247980</td>\n",
              "      <td>-1.624977</td>\n",
              "      <td>0.403514</td>\n",
              "      <td>2.032758</td>\n",
              "      <td>-0.889349</td>\n",
              "    </tr>\n",
              "    <tr>\n",
              "      <th>C</th>\n",
              "      <td>1.509935</td>\n",
              "      <td>-0.925603</td>\n",
              "      <td>0.828192</td>\n",
              "      <td>-0.826129</td>\n",
              "      <td>0.039274</td>\n",
              "      <td>0.187966</td>\n",
              "    </tr>\n",
              "    <tr>\n",
              "      <th>D</th>\n",
              "      <td>-0.003369</td>\n",
              "      <td>0.829463</td>\n",
              "      <td>0.682485</td>\n",
              "      <td>-0.958545</td>\n",
              "      <td>0.123142</td>\n",
              "      <td>-0.215603</td>\n",
              "    </tr>\n",
              "  </tbody>\n",
              "</table>\n",
              "</div>"
            ],
            "text/plain": [
              "   2021-01-01  2021-01-02  2021-01-03  2021-01-04  2021-01-05  2021-01-06\n",
              "A    0.944820   -0.461300   -0.242981   -0.135280    1.076673    0.449803\n",
              "B    0.854512   -1.247980   -1.624977    0.403514    2.032758   -0.889349\n",
              "C    1.509935   -0.925603    0.828192   -0.826129    0.039274    0.187966\n",
              "D   -0.003369    0.829463    0.682485   -0.958545    0.123142   -0.215603"
            ]
          },
          "metadata": {
            "tags": []
          },
          "execution_count": 77
        }
      ]
    },
    {
      "cell_type": "markdown",
      "metadata": {
        "id": "hBhnJJYnhysb"
      },
      "source": [
        "Sorting by an axis:\n",
        "\n",
        "根据轴来排序，0代表索引轴， 1代表列轴"
      ]
    },
    {
      "cell_type": "code",
      "metadata": {
        "colab": {
          "base_uri": "https://localhost:8080/",
          "height": 235
        },
        "id": "papnYmODh1lf",
        "outputId": "62e5d54f-985b-4af9-ec2a-c9e61cc4295f"
      },
      "source": [
        "df.sort_index(axis=1, ascending=False)"
      ],
      "execution_count": 78,
      "outputs": [
        {
          "output_type": "execute_result",
          "data": {
            "text/html": [
              "<div>\n",
              "<style scoped>\n",
              "    .dataframe tbody tr th:only-of-type {\n",
              "        vertical-align: middle;\n",
              "    }\n",
              "\n",
              "    .dataframe tbody tr th {\n",
              "        vertical-align: top;\n",
              "    }\n",
              "\n",
              "    .dataframe thead th {\n",
              "        text-align: right;\n",
              "    }\n",
              "</style>\n",
              "<table border=\"1\" class=\"dataframe\">\n",
              "  <thead>\n",
              "    <tr style=\"text-align: right;\">\n",
              "      <th></th>\n",
              "      <th>D</th>\n",
              "      <th>C</th>\n",
              "      <th>B</th>\n",
              "      <th>A</th>\n",
              "    </tr>\n",
              "  </thead>\n",
              "  <tbody>\n",
              "    <tr>\n",
              "      <th>2021-01-01</th>\n",
              "      <td>-0.003369</td>\n",
              "      <td>1.509935</td>\n",
              "      <td>0.854512</td>\n",
              "      <td>0.944820</td>\n",
              "    </tr>\n",
              "    <tr>\n",
              "      <th>2021-01-02</th>\n",
              "      <td>0.829463</td>\n",
              "      <td>-0.925603</td>\n",
              "      <td>-1.247980</td>\n",
              "      <td>-0.461300</td>\n",
              "    </tr>\n",
              "    <tr>\n",
              "      <th>2021-01-03</th>\n",
              "      <td>0.682485</td>\n",
              "      <td>0.828192</td>\n",
              "      <td>-1.624977</td>\n",
              "      <td>-0.242981</td>\n",
              "    </tr>\n",
              "    <tr>\n",
              "      <th>2021-01-04</th>\n",
              "      <td>-0.958545</td>\n",
              "      <td>-0.826129</td>\n",
              "      <td>0.403514</td>\n",
              "      <td>-0.135280</td>\n",
              "    </tr>\n",
              "    <tr>\n",
              "      <th>2021-01-05</th>\n",
              "      <td>0.123142</td>\n",
              "      <td>0.039274</td>\n",
              "      <td>2.032758</td>\n",
              "      <td>1.076673</td>\n",
              "    </tr>\n",
              "    <tr>\n",
              "      <th>2021-01-06</th>\n",
              "      <td>-0.215603</td>\n",
              "      <td>0.187966</td>\n",
              "      <td>-0.889349</td>\n",
              "      <td>0.449803</td>\n",
              "    </tr>\n",
              "  </tbody>\n",
              "</table>\n",
              "</div>"
            ],
            "text/plain": [
              "                   D         C         B         A\n",
              "2021-01-01 -0.003369  1.509935  0.854512  0.944820\n",
              "2021-01-02  0.829463 -0.925603 -1.247980 -0.461300\n",
              "2021-01-03  0.682485  0.828192 -1.624977 -0.242981\n",
              "2021-01-04 -0.958545 -0.826129  0.403514 -0.135280\n",
              "2021-01-05  0.123142  0.039274  2.032758  1.076673\n",
              "2021-01-06 -0.215603  0.187966 -0.889349  0.449803"
            ]
          },
          "metadata": {
            "tags": []
          },
          "execution_count": 78
        }
      ]
    },
    {
      "cell_type": "markdown",
      "metadata": {
        "id": "iPRjT0f3iodJ"
      },
      "source": [
        "Sorting by values:\n",
        "\n",
        "根据值来排序，比如某列的值 具体可以看sort_values函数的注释写的很清晰"
      ]
    },
    {
      "cell_type": "code",
      "metadata": {
        "colab": {
          "base_uri": "https://localhost:8080/",
          "height": 235
        },
        "id": "hxG2Y3RuipnW",
        "outputId": "2f76a6a0-9b1c-4c0e-a9ad-53469abe6b21"
      },
      "source": [
        "df.sort_values(by=\"B\")"
      ],
      "execution_count": 79,
      "outputs": [
        {
          "output_type": "execute_result",
          "data": {
            "text/html": [
              "<div>\n",
              "<style scoped>\n",
              "    .dataframe tbody tr th:only-of-type {\n",
              "        vertical-align: middle;\n",
              "    }\n",
              "\n",
              "    .dataframe tbody tr th {\n",
              "        vertical-align: top;\n",
              "    }\n",
              "\n",
              "    .dataframe thead th {\n",
              "        text-align: right;\n",
              "    }\n",
              "</style>\n",
              "<table border=\"1\" class=\"dataframe\">\n",
              "  <thead>\n",
              "    <tr style=\"text-align: right;\">\n",
              "      <th></th>\n",
              "      <th>A</th>\n",
              "      <th>B</th>\n",
              "      <th>C</th>\n",
              "      <th>D</th>\n",
              "    </tr>\n",
              "  </thead>\n",
              "  <tbody>\n",
              "    <tr>\n",
              "      <th>2021-01-03</th>\n",
              "      <td>-0.242981</td>\n",
              "      <td>-1.624977</td>\n",
              "      <td>0.828192</td>\n",
              "      <td>0.682485</td>\n",
              "    </tr>\n",
              "    <tr>\n",
              "      <th>2021-01-02</th>\n",
              "      <td>-0.461300</td>\n",
              "      <td>-1.247980</td>\n",
              "      <td>-0.925603</td>\n",
              "      <td>0.829463</td>\n",
              "    </tr>\n",
              "    <tr>\n",
              "      <th>2021-01-06</th>\n",
              "      <td>0.449803</td>\n",
              "      <td>-0.889349</td>\n",
              "      <td>0.187966</td>\n",
              "      <td>-0.215603</td>\n",
              "    </tr>\n",
              "    <tr>\n",
              "      <th>2021-01-04</th>\n",
              "      <td>-0.135280</td>\n",
              "      <td>0.403514</td>\n",
              "      <td>-0.826129</td>\n",
              "      <td>-0.958545</td>\n",
              "    </tr>\n",
              "    <tr>\n",
              "      <th>2021-01-01</th>\n",
              "      <td>0.944820</td>\n",
              "      <td>0.854512</td>\n",
              "      <td>1.509935</td>\n",
              "      <td>-0.003369</td>\n",
              "    </tr>\n",
              "    <tr>\n",
              "      <th>2021-01-05</th>\n",
              "      <td>1.076673</td>\n",
              "      <td>2.032758</td>\n",
              "      <td>0.039274</td>\n",
              "      <td>0.123142</td>\n",
              "    </tr>\n",
              "  </tbody>\n",
              "</table>\n",
              "</div>"
            ],
            "text/plain": [
              "                   A         B         C         D\n",
              "2021-01-03 -0.242981 -1.624977  0.828192  0.682485\n",
              "2021-01-02 -0.461300 -1.247980 -0.925603  0.829463\n",
              "2021-01-06  0.449803 -0.889349  0.187966 -0.215603\n",
              "2021-01-04 -0.135280  0.403514 -0.826129 -0.958545\n",
              "2021-01-01  0.944820  0.854512  1.509935 -0.003369\n",
              "2021-01-05  1.076673  2.032758  0.039274  0.123142"
            ]
          },
          "metadata": {
            "tags": []
          },
          "execution_count": 79
        }
      ]
    }
  ]
}