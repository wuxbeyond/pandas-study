{
  "nbformat": 4,
  "nbformat_minor": 0,
  "metadata": {
    "colab": {
      "name": "10分钟介绍pandas.ipynb",
      "provenance": [],
      "collapsed_sections": [],
      "authorship_tag": "ABX9TyNLIBggEgk9h1q+OujCUY81",
      "include_colab_link": true
    },
    "kernelspec": {
      "name": "python3",
      "display_name": "Python 3"
    },
    "language_info": {
      "name": "python"
    }
  },
  "cells": [
    {
      "cell_type": "markdown",
      "metadata": {
        "id": "view-in-github",
        "colab_type": "text"
      },
      "source": [
        "<a href=\"https://colab.research.google.com/github/wuxbeyond/pandas-study/blob/main/10%E5%88%86%E9%92%9F%E4%BB%8B%E7%BB%8Dpandas.ipynb\" target=\"_parent\"><img src=\"https://colab.research.google.com/assets/colab-badge.svg\" alt=\"Open In Colab\"/></a>"
      ]
    },
    {
      "cell_type": "markdown",
      "metadata": {
        "id": "xMIUntVBWMrx"
      },
      "source": [
        "按照习惯导入包:"
      ]
    },
    {
      "cell_type": "code",
      "metadata": {
        "id": "oB1ynymzWUUy"
      },
      "source": [
        "import numpy as np\n",
        "import pandas as pd"
      ],
      "execution_count": 2,
      "outputs": []
    },
    {
      "cell_type": "markdown",
      "metadata": {
        "id": "qIdaynhcWb56"
      },
      "source": [
        "通过传递list方式创建Series，pandas会创建一个默认的integer索引:"
      ]
    },
    {
      "cell_type": "code",
      "metadata": {
        "colab": {
          "base_uri": "https://localhost:8080/"
        },
        "id": "QOc-8i24W2wq",
        "outputId": "cec71a7a-c861-4fd8-aa88-c0db8d943234"
      },
      "source": [
        "s = pd.Series([1, 3, 5, np.nan, 6, 8])\n",
        "s"
      ],
      "execution_count": 3,
      "outputs": [
        {
          "output_type": "execute_result",
          "data": {
            "text/plain": [
              "0    1.0\n",
              "1    3.0\n",
              "2    5.0\n",
              "3    NaN\n",
              "4    6.0\n",
              "5    8.0\n",
              "dtype: float64"
            ]
          },
          "metadata": {
            "tags": []
          },
          "execution_count": 3
        }
      ]
    },
    {
      "cell_type": "markdown",
      "metadata": {
        "id": "sZ1nwoj0Xekd"
      },
      "source": [
        "Creating a DataFrame by passing a NumPy array, with a datetime index and labeled columns:"
      ]
    },
    {
      "cell_type": "code",
      "metadata": {
        "colab": {
          "base_uri": "https://localhost:8080/"
        },
        "id": "rv2F_mOhXflS",
        "outputId": "cfe6a2b1-0d17-47d6-e2bb-cc5fae887f12"
      },
      "source": [
        "dates = pd.date_range(start='20210101', periods=6)\n",
        "#print(dates)\n",
        "df = pd.DataFrame(np.random.randn(6, 4), index=dates, columns=list(\"ABCD\"))\n",
        "print(df)"
      ],
      "execution_count": 4,
      "outputs": [
        {
          "output_type": "stream",
          "text": [
            "                   A         B         C         D\n",
            "2021-01-01 -2.458308 -0.475099 -0.601716  1.281921\n",
            "2021-01-02 -1.038869  0.175282 -0.370157 -0.045720\n",
            "2021-01-03 -0.129527 -0.287304 -0.484458 -1.429564\n",
            "2021-01-04 -0.952431  0.252947 -1.321649  0.248919\n",
            "2021-01-05  1.721396  0.565802 -0.995745 -0.188781\n",
            "2021-01-06 -0.675890  1.072730  0.473336 -1.155516\n"
          ],
          "name": "stdout"
        }
      ]
    },
    {
      "cell_type": "markdown",
      "metadata": {
        "id": "-whxkqT_YiUY"
      },
      "source": [
        "Creating a DataFrame by passing a dict of objects that can be converted to series-like."
      ]
    },
    {
      "cell_type": "code",
      "metadata": {
        "colab": {
          "base_uri": "https://localhost:8080/",
          "height": 173
        },
        "id": "3MAH-4XrYlsA",
        "outputId": "2c0b586c-1b06-4e55-d4c6-8f7fecc55e38"
      },
      "source": [
        "df2 = pd.DataFrame(\n",
        "    {\n",
        "      \"A\": 1.0,\n",
        "      \"B\": pd.Timestamp(\"20210511\"),\n",
        "      \"C\": pd.Series(1,index=list(range(4)), dtype=\"float32\"),\n",
        "      \"D\": np.array([3] * 4, dtype=\"int32\"),\n",
        "      \"E\": pd.Categorical([\"test\", \"train\", \"test\", \"train\"]),\n",
        "      \"F\": \"foo\"\n",
        "    }\n",
        ")\n",
        "df2"
      ],
      "execution_count": 5,
      "outputs": [
        {
          "output_type": "execute_result",
          "data": {
            "text/html": [
              "<div>\n",
              "<style scoped>\n",
              "    .dataframe tbody tr th:only-of-type {\n",
              "        vertical-align: middle;\n",
              "    }\n",
              "\n",
              "    .dataframe tbody tr th {\n",
              "        vertical-align: top;\n",
              "    }\n",
              "\n",
              "    .dataframe thead th {\n",
              "        text-align: right;\n",
              "    }\n",
              "</style>\n",
              "<table border=\"1\" class=\"dataframe\">\n",
              "  <thead>\n",
              "    <tr style=\"text-align: right;\">\n",
              "      <th></th>\n",
              "      <th>A</th>\n",
              "      <th>B</th>\n",
              "      <th>C</th>\n",
              "      <th>D</th>\n",
              "      <th>E</th>\n",
              "      <th>F</th>\n",
              "    </tr>\n",
              "  </thead>\n",
              "  <tbody>\n",
              "    <tr>\n",
              "      <th>0</th>\n",
              "      <td>1.0</td>\n",
              "      <td>2021-05-11</td>\n",
              "      <td>1.0</td>\n",
              "      <td>3</td>\n",
              "      <td>test</td>\n",
              "      <td>foo</td>\n",
              "    </tr>\n",
              "    <tr>\n",
              "      <th>1</th>\n",
              "      <td>1.0</td>\n",
              "      <td>2021-05-11</td>\n",
              "      <td>1.0</td>\n",
              "      <td>3</td>\n",
              "      <td>train</td>\n",
              "      <td>foo</td>\n",
              "    </tr>\n",
              "    <tr>\n",
              "      <th>2</th>\n",
              "      <td>1.0</td>\n",
              "      <td>2021-05-11</td>\n",
              "      <td>1.0</td>\n",
              "      <td>3</td>\n",
              "      <td>test</td>\n",
              "      <td>foo</td>\n",
              "    </tr>\n",
              "    <tr>\n",
              "      <th>3</th>\n",
              "      <td>1.0</td>\n",
              "      <td>2021-05-11</td>\n",
              "      <td>1.0</td>\n",
              "      <td>3</td>\n",
              "      <td>train</td>\n",
              "      <td>foo</td>\n",
              "    </tr>\n",
              "  </tbody>\n",
              "</table>\n",
              "</div>"
            ],
            "text/plain": [
              "     A          B    C  D      E    F\n",
              "0  1.0 2021-05-11  1.0  3   test  foo\n",
              "1  1.0 2021-05-11  1.0  3  train  foo\n",
              "2  1.0 2021-05-11  1.0  3   test  foo\n",
              "3  1.0 2021-05-11  1.0  3  train  foo"
            ]
          },
          "metadata": {
            "tags": []
          },
          "execution_count": 5
        }
      ]
    },
    {
      "cell_type": "markdown",
      "metadata": {
        "id": "JgY-QxeTdMM4"
      },
      "source": [
        "The columns of the resulting DataFrame have different dtypes."
      ]
    },
    {
      "cell_type": "code",
      "metadata": {
        "colab": {
          "base_uri": "https://localhost:8080/"
        },
        "id": "sVfNVHTqdO2P",
        "outputId": "4e211979-ae5d-4f9f-fecd-3b5756360b43"
      },
      "source": [
        "df2.dtypes\n"
      ],
      "execution_count": 6,
      "outputs": [
        {
          "output_type": "execute_result",
          "data": {
            "text/plain": [
              "A           float64\n",
              "B    datetime64[ns]\n",
              "C           float32\n",
              "D             int32\n",
              "E          category\n",
              "F            object\n",
              "dtype: object"
            ]
          },
          "metadata": {
            "tags": []
          },
          "execution_count": 6
        }
      ]
    },
    {
      "cell_type": "markdown",
      "metadata": {
        "id": "J_6DLIJad8VM"
      },
      "source": [
        "Here is how to view the top and bottom rows of the frame:"
      ]
    },
    {
      "cell_type": "code",
      "metadata": {
        "colab": {
          "base_uri": "https://localhost:8080/",
          "height": 204
        },
        "id": "gwcePnnLd_Kx",
        "outputId": "d3511319-ed6b-4d93-fade-3eca4baef6b5"
      },
      "source": [
        "df.head()"
      ],
      "execution_count": 7,
      "outputs": [
        {
          "output_type": "execute_result",
          "data": {
            "text/html": [
              "<div>\n",
              "<style scoped>\n",
              "    .dataframe tbody tr th:only-of-type {\n",
              "        vertical-align: middle;\n",
              "    }\n",
              "\n",
              "    .dataframe tbody tr th {\n",
              "        vertical-align: top;\n",
              "    }\n",
              "\n",
              "    .dataframe thead th {\n",
              "        text-align: right;\n",
              "    }\n",
              "</style>\n",
              "<table border=\"1\" class=\"dataframe\">\n",
              "  <thead>\n",
              "    <tr style=\"text-align: right;\">\n",
              "      <th></th>\n",
              "      <th>A</th>\n",
              "      <th>B</th>\n",
              "      <th>C</th>\n",
              "      <th>D</th>\n",
              "    </tr>\n",
              "  </thead>\n",
              "  <tbody>\n",
              "    <tr>\n",
              "      <th>2021-01-01</th>\n",
              "      <td>-2.458308</td>\n",
              "      <td>-0.475099</td>\n",
              "      <td>-0.601716</td>\n",
              "      <td>1.281921</td>\n",
              "    </tr>\n",
              "    <tr>\n",
              "      <th>2021-01-02</th>\n",
              "      <td>-1.038869</td>\n",
              "      <td>0.175282</td>\n",
              "      <td>-0.370157</td>\n",
              "      <td>-0.045720</td>\n",
              "    </tr>\n",
              "    <tr>\n",
              "      <th>2021-01-03</th>\n",
              "      <td>-0.129527</td>\n",
              "      <td>-0.287304</td>\n",
              "      <td>-0.484458</td>\n",
              "      <td>-1.429564</td>\n",
              "    </tr>\n",
              "    <tr>\n",
              "      <th>2021-01-04</th>\n",
              "      <td>-0.952431</td>\n",
              "      <td>0.252947</td>\n",
              "      <td>-1.321649</td>\n",
              "      <td>0.248919</td>\n",
              "    </tr>\n",
              "    <tr>\n",
              "      <th>2021-01-05</th>\n",
              "      <td>1.721396</td>\n",
              "      <td>0.565802</td>\n",
              "      <td>-0.995745</td>\n",
              "      <td>-0.188781</td>\n",
              "    </tr>\n",
              "  </tbody>\n",
              "</table>\n",
              "</div>"
            ],
            "text/plain": [
              "                   A         B         C         D\n",
              "2021-01-01 -2.458308 -0.475099 -0.601716  1.281921\n",
              "2021-01-02 -1.038869  0.175282 -0.370157 -0.045720\n",
              "2021-01-03 -0.129527 -0.287304 -0.484458 -1.429564\n",
              "2021-01-04 -0.952431  0.252947 -1.321649  0.248919\n",
              "2021-01-05  1.721396  0.565802 -0.995745 -0.188781"
            ]
          },
          "metadata": {
            "tags": []
          },
          "execution_count": 7
        }
      ]
    },
    {
      "cell_type": "code",
      "metadata": {
        "colab": {
          "base_uri": "https://localhost:8080/",
          "height": 111
        },
        "id": "J0lp-8TxeWM3",
        "outputId": "02736f3b-1ed3-45d8-ba4f-91215bc9fe13"
      },
      "source": [
        "df.tail(2)"
      ],
      "execution_count": 8,
      "outputs": [
        {
          "output_type": "execute_result",
          "data": {
            "text/html": [
              "<div>\n",
              "<style scoped>\n",
              "    .dataframe tbody tr th:only-of-type {\n",
              "        vertical-align: middle;\n",
              "    }\n",
              "\n",
              "    .dataframe tbody tr th {\n",
              "        vertical-align: top;\n",
              "    }\n",
              "\n",
              "    .dataframe thead th {\n",
              "        text-align: right;\n",
              "    }\n",
              "</style>\n",
              "<table border=\"1\" class=\"dataframe\">\n",
              "  <thead>\n",
              "    <tr style=\"text-align: right;\">\n",
              "      <th></th>\n",
              "      <th>A</th>\n",
              "      <th>B</th>\n",
              "      <th>C</th>\n",
              "      <th>D</th>\n",
              "    </tr>\n",
              "  </thead>\n",
              "  <tbody>\n",
              "    <tr>\n",
              "      <th>2021-01-05</th>\n",
              "      <td>1.721396</td>\n",
              "      <td>0.565802</td>\n",
              "      <td>-0.995745</td>\n",
              "      <td>-0.188781</td>\n",
              "    </tr>\n",
              "    <tr>\n",
              "      <th>2021-01-06</th>\n",
              "      <td>-0.675890</td>\n",
              "      <td>1.072730</td>\n",
              "      <td>0.473336</td>\n",
              "      <td>-1.155516</td>\n",
              "    </tr>\n",
              "  </tbody>\n",
              "</table>\n",
              "</div>"
            ],
            "text/plain": [
              "                   A         B         C         D\n",
              "2021-01-05  1.721396  0.565802 -0.995745 -0.188781\n",
              "2021-01-06 -0.675890  1.072730  0.473336 -1.155516"
            ]
          },
          "metadata": {
            "tags": []
          },
          "execution_count": 8
        }
      ]
    },
    {
      "cell_type": "markdown",
      "metadata": {
        "id": "k4QBHCsceM0G"
      },
      "source": [
        "Display the index, columns:"
      ]
    },
    {
      "cell_type": "code",
      "metadata": {
        "colab": {
          "base_uri": "https://localhost:8080/"
        },
        "id": "VpZ7fdN3eNaK",
        "outputId": "aefcaca9-32ae-43a9-a18d-bb73aa290238"
      },
      "source": [
        "df.index"
      ],
      "execution_count": 72,
      "outputs": [
        {
          "output_type": "execute_result",
          "data": {
            "text/plain": [
              "DatetimeIndex(['2021-01-01', '2021-01-02', '2021-01-03', '2021-01-04',\n",
              "               '2021-01-05', '2021-01-06'],\n",
              "              dtype='datetime64[ns]', freq='D')"
            ]
          },
          "metadata": {
            "tags": []
          },
          "execution_count": 72
        }
      ]
    },
    {
      "cell_type": "code",
      "metadata": {
        "colab": {
          "base_uri": "https://localhost:8080/"
        },
        "id": "m04mjY6MeRSX",
        "outputId": "72083098-9002-4000-de08-3928ed6c4dda"
      },
      "source": [
        "df.columns"
      ],
      "execution_count": 73,
      "outputs": [
        {
          "output_type": "execute_result",
          "data": {
            "text/plain": [
              "Index(['A', 'B', 'C', 'D'], dtype='object')"
            ]
          },
          "metadata": {
            "tags": []
          },
          "execution_count": 73
        }
      ]
    },
    {
      "cell_type": "markdown",
      "metadata": {
        "id": "eI-FsLE0e8fB"
      },
      "source": [
        "For df, our DataFrame of all floating-point values, DataFrame.to_numpy() is fast and doesn’t require copying data.\n",
        "\n",
        "DataFrame.to_numpy() does not include the index or column labels in the output."
      ]
    },
    {
      "cell_type": "code",
      "metadata": {
        "colab": {
          "base_uri": "https://localhost:8080/"
        },
        "id": "T65yk1vNfB8k",
        "outputId": "cae20671-a34a-496b-9364-7f3e5cef5550"
      },
      "source": [
        "df.to_numpy()"
      ],
      "execution_count": 74,
      "outputs": [
        {
          "output_type": "execute_result",
          "data": {
            "text/plain": [
              "array([[ 0.94481961,  0.85451223,  1.50993475, -0.00336867],\n",
              "       [-0.46130039, -1.24797959, -0.92560262,  0.8294628 ],\n",
              "       [-0.24298059, -1.62497708,  0.82819179,  0.68248476],\n",
              "       [-0.13528015,  0.40351375, -0.82612941, -0.95854539],\n",
              "       [ 1.0766728 ,  2.03275787,  0.03927361,  0.12314155],\n",
              "       [ 0.44980267, -0.88934944,  0.18796608, -0.21560321]])"
            ]
          },
          "metadata": {
            "tags": []
          },
          "execution_count": 74
        }
      ]
    },
    {
      "cell_type": "markdown",
      "metadata": {
        "id": "XUqZGAB9fNZw"
      },
      "source": [
        "For df2, the DataFrame with multiple dtypes, DataFrame.to_numpy() is relatively expensive."
      ]
    },
    {
      "cell_type": "code",
      "metadata": {
        "colab": {
          "base_uri": "https://localhost:8080/"
        },
        "id": "FgSFl7j2fOaH",
        "outputId": "8f0055d1-3b73-403b-f158-f49bb9c20f25"
      },
      "source": [
        "df2.to_numpy()"
      ],
      "execution_count": 75,
      "outputs": [
        {
          "output_type": "execute_result",
          "data": {
            "text/plain": [
              "array([[1.0, Timestamp('2021-05-11 00:00:00'), 1.0, 3, 'test', 'foo'],\n",
              "       [1.0, Timestamp('2021-05-11 00:00:00'), 1.0, 3, 'train', 'foo'],\n",
              "       [1.0, Timestamp('2021-05-11 00:00:00'), 1.0, 3, 'test', 'foo'],\n",
              "       [1.0, Timestamp('2021-05-11 00:00:00'), 1.0, 3, 'train', 'foo']],\n",
              "      dtype=object)"
            ]
          },
          "metadata": {
            "tags": []
          },
          "execution_count": 75
        }
      ]
    },
    {
      "cell_type": "markdown",
      "metadata": {
        "id": "fz0uDYKsgxEX"
      },
      "source": [
        "describe() shows a quick statistic summary of your data:"
      ]
    },
    {
      "cell_type": "code",
      "metadata": {
        "colab": {
          "base_uri": "https://localhost:8080/",
          "height": 297
        },
        "id": "F8rhzHdEgyhe",
        "outputId": "c02f527e-b828-40fd-f4c2-9933381e76d8"
      },
      "source": [
        "df.describe()"
      ],
      "execution_count": 76,
      "outputs": [
        {
          "output_type": "execute_result",
          "data": {
            "text/html": [
              "<div>\n",
              "<style scoped>\n",
              "    .dataframe tbody tr th:only-of-type {\n",
              "        vertical-align: middle;\n",
              "    }\n",
              "\n",
              "    .dataframe tbody tr th {\n",
              "        vertical-align: top;\n",
              "    }\n",
              "\n",
              "    .dataframe thead th {\n",
              "        text-align: right;\n",
              "    }\n",
              "</style>\n",
              "<table border=\"1\" class=\"dataframe\">\n",
              "  <thead>\n",
              "    <tr style=\"text-align: right;\">\n",
              "      <th></th>\n",
              "      <th>A</th>\n",
              "      <th>B</th>\n",
              "      <th>C</th>\n",
              "      <th>D</th>\n",
              "    </tr>\n",
              "  </thead>\n",
              "  <tbody>\n",
              "    <tr>\n",
              "      <th>count</th>\n",
              "      <td>6.000000</td>\n",
              "      <td>6.000000</td>\n",
              "      <td>6.000000</td>\n",
              "      <td>6.000000</td>\n",
              "    </tr>\n",
              "    <tr>\n",
              "      <th>mean</th>\n",
              "      <td>0.271956</td>\n",
              "      <td>-0.078587</td>\n",
              "      <td>0.135606</td>\n",
              "      <td>0.076262</td>\n",
              "    </tr>\n",
              "    <tr>\n",
              "      <th>std</th>\n",
              "      <td>0.648168</td>\n",
              "      <td>1.412587</td>\n",
              "      <td>0.941443</td>\n",
              "      <td>0.647977</td>\n",
              "    </tr>\n",
              "    <tr>\n",
              "      <th>min</th>\n",
              "      <td>-0.461300</td>\n",
              "      <td>-1.624977</td>\n",
              "      <td>-0.925603</td>\n",
              "      <td>-0.958545</td>\n",
              "    </tr>\n",
              "    <tr>\n",
              "      <th>25%</th>\n",
              "      <td>-0.216055</td>\n",
              "      <td>-1.158322</td>\n",
              "      <td>-0.609779</td>\n",
              "      <td>-0.162545</td>\n",
              "    </tr>\n",
              "    <tr>\n",
              "      <th>50%</th>\n",
              "      <td>0.157261</td>\n",
              "      <td>-0.242918</td>\n",
              "      <td>0.113620</td>\n",
              "      <td>0.059886</td>\n",
              "    </tr>\n",
              "    <tr>\n",
              "      <th>75%</th>\n",
              "      <td>0.821065</td>\n",
              "      <td>0.741763</td>\n",
              "      <td>0.668135</td>\n",
              "      <td>0.542649</td>\n",
              "    </tr>\n",
              "    <tr>\n",
              "      <th>max</th>\n",
              "      <td>1.076673</td>\n",
              "      <td>2.032758</td>\n",
              "      <td>1.509935</td>\n",
              "      <td>0.829463</td>\n",
              "    </tr>\n",
              "  </tbody>\n",
              "</table>\n",
              "</div>"
            ],
            "text/plain": [
              "              A         B         C         D\n",
              "count  6.000000  6.000000  6.000000  6.000000\n",
              "mean   0.271956 -0.078587  0.135606  0.076262\n",
              "std    0.648168  1.412587  0.941443  0.647977\n",
              "min   -0.461300 -1.624977 -0.925603 -0.958545\n",
              "25%   -0.216055 -1.158322 -0.609779 -0.162545\n",
              "50%    0.157261 -0.242918  0.113620  0.059886\n",
              "75%    0.821065  0.741763  0.668135  0.542649\n",
              "max    1.076673  2.032758  1.509935  0.829463"
            ]
          },
          "metadata": {
            "tags": []
          },
          "execution_count": 76
        }
      ]
    },
    {
      "cell_type": "markdown",
      "metadata": {
        "id": "inzAXtIkhBef"
      },
      "source": [
        "Transposing your data:\n",
        "\n",
        "转置的过程其实是沿着左上与右下形成对角线进行翻转。"
      ]
    },
    {
      "cell_type": "code",
      "metadata": {
        "colab": {
          "base_uri": "https://localhost:8080/",
          "height": 173
        },
        "id": "w8HPY5SshDN_",
        "outputId": "5af62409-075c-4f89-8c7f-0f8bb7ed3f2e"
      },
      "source": [
        "df.T"
      ],
      "execution_count": 77,
      "outputs": [
        {
          "output_type": "execute_result",
          "data": {
            "text/html": [
              "<div>\n",
              "<style scoped>\n",
              "    .dataframe tbody tr th:only-of-type {\n",
              "        vertical-align: middle;\n",
              "    }\n",
              "\n",
              "    .dataframe tbody tr th {\n",
              "        vertical-align: top;\n",
              "    }\n",
              "\n",
              "    .dataframe thead th {\n",
              "        text-align: right;\n",
              "    }\n",
              "</style>\n",
              "<table border=\"1\" class=\"dataframe\">\n",
              "  <thead>\n",
              "    <tr style=\"text-align: right;\">\n",
              "      <th></th>\n",
              "      <th>2021-01-01</th>\n",
              "      <th>2021-01-02</th>\n",
              "      <th>2021-01-03</th>\n",
              "      <th>2021-01-04</th>\n",
              "      <th>2021-01-05</th>\n",
              "      <th>2021-01-06</th>\n",
              "    </tr>\n",
              "  </thead>\n",
              "  <tbody>\n",
              "    <tr>\n",
              "      <th>A</th>\n",
              "      <td>0.944820</td>\n",
              "      <td>-0.461300</td>\n",
              "      <td>-0.242981</td>\n",
              "      <td>-0.135280</td>\n",
              "      <td>1.076673</td>\n",
              "      <td>0.449803</td>\n",
              "    </tr>\n",
              "    <tr>\n",
              "      <th>B</th>\n",
              "      <td>0.854512</td>\n",
              "      <td>-1.247980</td>\n",
              "      <td>-1.624977</td>\n",
              "      <td>0.403514</td>\n",
              "      <td>2.032758</td>\n",
              "      <td>-0.889349</td>\n",
              "    </tr>\n",
              "    <tr>\n",
              "      <th>C</th>\n",
              "      <td>1.509935</td>\n",
              "      <td>-0.925603</td>\n",
              "      <td>0.828192</td>\n",
              "      <td>-0.826129</td>\n",
              "      <td>0.039274</td>\n",
              "      <td>0.187966</td>\n",
              "    </tr>\n",
              "    <tr>\n",
              "      <th>D</th>\n",
              "      <td>-0.003369</td>\n",
              "      <td>0.829463</td>\n",
              "      <td>0.682485</td>\n",
              "      <td>-0.958545</td>\n",
              "      <td>0.123142</td>\n",
              "      <td>-0.215603</td>\n",
              "    </tr>\n",
              "  </tbody>\n",
              "</table>\n",
              "</div>"
            ],
            "text/plain": [
              "   2021-01-01  2021-01-02  2021-01-03  2021-01-04  2021-01-05  2021-01-06\n",
              "A    0.944820   -0.461300   -0.242981   -0.135280    1.076673    0.449803\n",
              "B    0.854512   -1.247980   -1.624977    0.403514    2.032758   -0.889349\n",
              "C    1.509935   -0.925603    0.828192   -0.826129    0.039274    0.187966\n",
              "D   -0.003369    0.829463    0.682485   -0.958545    0.123142   -0.215603"
            ]
          },
          "metadata": {
            "tags": []
          },
          "execution_count": 77
        }
      ]
    },
    {
      "cell_type": "markdown",
      "metadata": {
        "id": "hBhnJJYnhysb"
      },
      "source": [
        "Sorting by an axis:\n",
        "\n",
        "根据轴来排序，0代表索引轴， 1代表列轴"
      ]
    },
    {
      "cell_type": "code",
      "metadata": {
        "colab": {
          "base_uri": "https://localhost:8080/",
          "height": 235
        },
        "id": "papnYmODh1lf",
        "outputId": "62e5d54f-985b-4af9-ec2a-c9e61cc4295f"
      },
      "source": [
        "df.sort_index(axis=1, ascending=False)"
      ],
      "execution_count": 78,
      "outputs": [
        {
          "output_type": "execute_result",
          "data": {
            "text/html": [
              "<div>\n",
              "<style scoped>\n",
              "    .dataframe tbody tr th:only-of-type {\n",
              "        vertical-align: middle;\n",
              "    }\n",
              "\n",
              "    .dataframe tbody tr th {\n",
              "        vertical-align: top;\n",
              "    }\n",
              "\n",
              "    .dataframe thead th {\n",
              "        text-align: right;\n",
              "    }\n",
              "</style>\n",
              "<table border=\"1\" class=\"dataframe\">\n",
              "  <thead>\n",
              "    <tr style=\"text-align: right;\">\n",
              "      <th></th>\n",
              "      <th>D</th>\n",
              "      <th>C</th>\n",
              "      <th>B</th>\n",
              "      <th>A</th>\n",
              "    </tr>\n",
              "  </thead>\n",
              "  <tbody>\n",
              "    <tr>\n",
              "      <th>2021-01-01</th>\n",
              "      <td>-0.003369</td>\n",
              "      <td>1.509935</td>\n",
              "      <td>0.854512</td>\n",
              "      <td>0.944820</td>\n",
              "    </tr>\n",
              "    <tr>\n",
              "      <th>2021-01-02</th>\n",
              "      <td>0.829463</td>\n",
              "      <td>-0.925603</td>\n",
              "      <td>-1.247980</td>\n",
              "      <td>-0.461300</td>\n",
              "    </tr>\n",
              "    <tr>\n",
              "      <th>2021-01-03</th>\n",
              "      <td>0.682485</td>\n",
              "      <td>0.828192</td>\n",
              "      <td>-1.624977</td>\n",
              "      <td>-0.242981</td>\n",
              "    </tr>\n",
              "    <tr>\n",
              "      <th>2021-01-04</th>\n",
              "      <td>-0.958545</td>\n",
              "      <td>-0.826129</td>\n",
              "      <td>0.403514</td>\n",
              "      <td>-0.135280</td>\n",
              "    </tr>\n",
              "    <tr>\n",
              "      <th>2021-01-05</th>\n",
              "      <td>0.123142</td>\n",
              "      <td>0.039274</td>\n",
              "      <td>2.032758</td>\n",
              "      <td>1.076673</td>\n",
              "    </tr>\n",
              "    <tr>\n",
              "      <th>2021-01-06</th>\n",
              "      <td>-0.215603</td>\n",
              "      <td>0.187966</td>\n",
              "      <td>-0.889349</td>\n",
              "      <td>0.449803</td>\n",
              "    </tr>\n",
              "  </tbody>\n",
              "</table>\n",
              "</div>"
            ],
            "text/plain": [
              "                   D         C         B         A\n",
              "2021-01-01 -0.003369  1.509935  0.854512  0.944820\n",
              "2021-01-02  0.829463 -0.925603 -1.247980 -0.461300\n",
              "2021-01-03  0.682485  0.828192 -1.624977 -0.242981\n",
              "2021-01-04 -0.958545 -0.826129  0.403514 -0.135280\n",
              "2021-01-05  0.123142  0.039274  2.032758  1.076673\n",
              "2021-01-06 -0.215603  0.187966 -0.889349  0.449803"
            ]
          },
          "metadata": {
            "tags": []
          },
          "execution_count": 78
        }
      ]
    },
    {
      "cell_type": "markdown",
      "metadata": {
        "id": "iPRjT0f3iodJ"
      },
      "source": [
        "Sorting by values:\n",
        "\n",
        "根据值来排序，比如某列的值 具体可以看sort_values函数的注释写的很清晰"
      ]
    },
    {
      "cell_type": "code",
      "metadata": {
        "colab": {
          "base_uri": "https://localhost:8080/",
          "height": 235
        },
        "id": "hxG2Y3RuipnW",
        "outputId": "39c85d83-7e11-423c-cbf3-ae9aab019c33"
      },
      "source": [
        "df.sort_values(by=\"B\")"
      ],
      "execution_count": 80,
      "outputs": [
        {
          "output_type": "execute_result",
          "data": {
            "text/html": [
              "<div>\n",
              "<style scoped>\n",
              "    .dataframe tbody tr th:only-of-type {\n",
              "        vertical-align: middle;\n",
              "    }\n",
              "\n",
              "    .dataframe tbody tr th {\n",
              "        vertical-align: top;\n",
              "    }\n",
              "\n",
              "    .dataframe thead th {\n",
              "        text-align: right;\n",
              "    }\n",
              "</style>\n",
              "<table border=\"1\" class=\"dataframe\">\n",
              "  <thead>\n",
              "    <tr style=\"text-align: right;\">\n",
              "      <th></th>\n",
              "      <th>A</th>\n",
              "      <th>B</th>\n",
              "      <th>C</th>\n",
              "      <th>D</th>\n",
              "    </tr>\n",
              "  </thead>\n",
              "  <tbody>\n",
              "    <tr>\n",
              "      <th>2021-01-03</th>\n",
              "      <td>-0.242981</td>\n",
              "      <td>-1.624977</td>\n",
              "      <td>0.828192</td>\n",
              "      <td>0.682485</td>\n",
              "    </tr>\n",
              "    <tr>\n",
              "      <th>2021-01-02</th>\n",
              "      <td>-0.461300</td>\n",
              "      <td>-1.247980</td>\n",
              "      <td>-0.925603</td>\n",
              "      <td>0.829463</td>\n",
              "    </tr>\n",
              "    <tr>\n",
              "      <th>2021-01-06</th>\n",
              "      <td>0.449803</td>\n",
              "      <td>-0.889349</td>\n",
              "      <td>0.187966</td>\n",
              "      <td>-0.215603</td>\n",
              "    </tr>\n",
              "    <tr>\n",
              "      <th>2021-01-04</th>\n",
              "      <td>-0.135280</td>\n",
              "      <td>0.403514</td>\n",
              "      <td>-0.826129</td>\n",
              "      <td>-0.958545</td>\n",
              "    </tr>\n",
              "    <tr>\n",
              "      <th>2021-01-01</th>\n",
              "      <td>0.944820</td>\n",
              "      <td>0.854512</td>\n",
              "      <td>1.509935</td>\n",
              "      <td>-0.003369</td>\n",
              "    </tr>\n",
              "    <tr>\n",
              "      <th>2021-01-05</th>\n",
              "      <td>1.076673</td>\n",
              "      <td>2.032758</td>\n",
              "      <td>0.039274</td>\n",
              "      <td>0.123142</td>\n",
              "    </tr>\n",
              "  </tbody>\n",
              "</table>\n",
              "</div>"
            ],
            "text/plain": [
              "                   A         B         C         D\n",
              "2021-01-03 -0.242981 -1.624977  0.828192  0.682485\n",
              "2021-01-02 -0.461300 -1.247980 -0.925603  0.829463\n",
              "2021-01-06  0.449803 -0.889349  0.187966 -0.215603\n",
              "2021-01-04 -0.135280  0.403514 -0.826129 -0.958545\n",
              "2021-01-01  0.944820  0.854512  1.509935 -0.003369\n",
              "2021-01-05  1.076673  2.032758  0.039274  0.123142"
            ]
          },
          "metadata": {
            "tags": []
          },
          "execution_count": 80
        }
      ]
    },
    {
      "cell_type": "markdown",
      "metadata": {
        "id": "r8aIxGyRN5L8"
      },
      "source": [
        "Selecting a single column, which yields a Series, equivalent to df.A:"
      ]
    },
    {
      "cell_type": "code",
      "metadata": {
        "colab": {
          "base_uri": "https://localhost:8080/"
        },
        "id": "vbIUCUvMN8gi",
        "outputId": "4a701a00-a61f-4f9a-e58e-21b2bfc7ed36"
      },
      "source": [
        "df[\"A\"]"
      ],
      "execution_count": 9,
      "outputs": [
        {
          "output_type": "execute_result",
          "data": {
            "text/plain": [
              "2021-01-01   -2.458308\n",
              "2021-01-02   -1.038869\n",
              "2021-01-03   -0.129527\n",
              "2021-01-04   -0.952431\n",
              "2021-01-05    1.721396\n",
              "2021-01-06   -0.675890\n",
              "Freq: D, Name: A, dtype: float64"
            ]
          },
          "metadata": {
            "tags": []
          },
          "execution_count": 9
        }
      ]
    },
    {
      "cell_type": "markdown",
      "metadata": {
        "id": "cN-88ut2OX2g"
      },
      "source": [
        "Selecting via [], which slices the rows."
      ]
    },
    {
      "cell_type": "code",
      "metadata": {
        "colab": {
          "base_uri": "https://localhost:8080/",
          "height": 142
        },
        "id": "pJLK4X8SOZZo",
        "outputId": "c6725cd2-b6b0-43dd-ace7-2193cfb40acd"
      },
      "source": [
        "df[0:3]"
      ],
      "execution_count": 10,
      "outputs": [
        {
          "output_type": "execute_result",
          "data": {
            "text/html": [
              "<div>\n",
              "<style scoped>\n",
              "    .dataframe tbody tr th:only-of-type {\n",
              "        vertical-align: middle;\n",
              "    }\n",
              "\n",
              "    .dataframe tbody tr th {\n",
              "        vertical-align: top;\n",
              "    }\n",
              "\n",
              "    .dataframe thead th {\n",
              "        text-align: right;\n",
              "    }\n",
              "</style>\n",
              "<table border=\"1\" class=\"dataframe\">\n",
              "  <thead>\n",
              "    <tr style=\"text-align: right;\">\n",
              "      <th></th>\n",
              "      <th>A</th>\n",
              "      <th>B</th>\n",
              "      <th>C</th>\n",
              "      <th>D</th>\n",
              "    </tr>\n",
              "  </thead>\n",
              "  <tbody>\n",
              "    <tr>\n",
              "      <th>2021-01-01</th>\n",
              "      <td>-2.458308</td>\n",
              "      <td>-0.475099</td>\n",
              "      <td>-0.601716</td>\n",
              "      <td>1.281921</td>\n",
              "    </tr>\n",
              "    <tr>\n",
              "      <th>2021-01-02</th>\n",
              "      <td>-1.038869</td>\n",
              "      <td>0.175282</td>\n",
              "      <td>-0.370157</td>\n",
              "      <td>-0.045720</td>\n",
              "    </tr>\n",
              "    <tr>\n",
              "      <th>2021-01-03</th>\n",
              "      <td>-0.129527</td>\n",
              "      <td>-0.287304</td>\n",
              "      <td>-0.484458</td>\n",
              "      <td>-1.429564</td>\n",
              "    </tr>\n",
              "  </tbody>\n",
              "</table>\n",
              "</div>"
            ],
            "text/plain": [
              "                   A         B         C         D\n",
              "2021-01-01 -2.458308 -0.475099 -0.601716  1.281921\n",
              "2021-01-02 -1.038869  0.175282 -0.370157 -0.045720\n",
              "2021-01-03 -0.129527 -0.287304 -0.484458 -1.429564"
            ]
          },
          "metadata": {
            "tags": []
          },
          "execution_count": 10
        }
      ]
    },
    {
      "cell_type": "code",
      "metadata": {
        "colab": {
          "base_uri": "https://localhost:8080/",
          "height": 173
        },
        "id": "1S2A9i2sOflJ",
        "outputId": "c19b9fea-6e6d-4f90-ff04-3a866aefefc2"
      },
      "source": [
        "df[\"20210101\":\"20210104\"]"
      ],
      "execution_count": 11,
      "outputs": [
        {
          "output_type": "execute_result",
          "data": {
            "text/html": [
              "<div>\n",
              "<style scoped>\n",
              "    .dataframe tbody tr th:only-of-type {\n",
              "        vertical-align: middle;\n",
              "    }\n",
              "\n",
              "    .dataframe tbody tr th {\n",
              "        vertical-align: top;\n",
              "    }\n",
              "\n",
              "    .dataframe thead th {\n",
              "        text-align: right;\n",
              "    }\n",
              "</style>\n",
              "<table border=\"1\" class=\"dataframe\">\n",
              "  <thead>\n",
              "    <tr style=\"text-align: right;\">\n",
              "      <th></th>\n",
              "      <th>A</th>\n",
              "      <th>B</th>\n",
              "      <th>C</th>\n",
              "      <th>D</th>\n",
              "    </tr>\n",
              "  </thead>\n",
              "  <tbody>\n",
              "    <tr>\n",
              "      <th>2021-01-01</th>\n",
              "      <td>-2.458308</td>\n",
              "      <td>-0.475099</td>\n",
              "      <td>-0.601716</td>\n",
              "      <td>1.281921</td>\n",
              "    </tr>\n",
              "    <tr>\n",
              "      <th>2021-01-02</th>\n",
              "      <td>-1.038869</td>\n",
              "      <td>0.175282</td>\n",
              "      <td>-0.370157</td>\n",
              "      <td>-0.045720</td>\n",
              "    </tr>\n",
              "    <tr>\n",
              "      <th>2021-01-03</th>\n",
              "      <td>-0.129527</td>\n",
              "      <td>-0.287304</td>\n",
              "      <td>-0.484458</td>\n",
              "      <td>-1.429564</td>\n",
              "    </tr>\n",
              "    <tr>\n",
              "      <th>2021-01-04</th>\n",
              "      <td>-0.952431</td>\n",
              "      <td>0.252947</td>\n",
              "      <td>-1.321649</td>\n",
              "      <td>0.248919</td>\n",
              "    </tr>\n",
              "  </tbody>\n",
              "</table>\n",
              "</div>"
            ],
            "text/plain": [
              "                   A         B         C         D\n",
              "2021-01-01 -2.458308 -0.475099 -0.601716  1.281921\n",
              "2021-01-02 -1.038869  0.175282 -0.370157 -0.045720\n",
              "2021-01-03 -0.129527 -0.287304 -0.484458 -1.429564\n",
              "2021-01-04 -0.952431  0.252947 -1.321649  0.248919"
            ]
          },
          "metadata": {
            "tags": []
          },
          "execution_count": 11
        }
      ]
    },
    {
      "cell_type": "markdown",
      "metadata": {
        "id": "ZlHGeU0qOyQZ"
      },
      "source": [
        "For getting a cross section using a label:"
      ]
    },
    {
      "cell_type": "code",
      "metadata": {
        "colab": {
          "base_uri": "https://localhost:8080/"
        },
        "id": "RQxKW2mdOz2n",
        "outputId": "bf89dcf7-0971-4e5b-e809-43db8cdb2b1c"
      },
      "source": [
        "df.loc[dates[0]]"
      ],
      "execution_count": 16,
      "outputs": [
        {
          "output_type": "execute_result",
          "data": {
            "text/plain": [
              "A   -2.458308\n",
              "B   -0.475099\n",
              "C   -0.601716\n",
              "D    1.281921\n",
              "Name: 2021-01-01 00:00:00, dtype: float64"
            ]
          },
          "metadata": {
            "tags": []
          },
          "execution_count": 16
        }
      ]
    },
    {
      "cell_type": "markdown",
      "metadata": {
        "id": "No-Tz0IGPWP9"
      },
      "source": [
        "Selecting on a multi-axis by label:"
      ]
    },
    {
      "cell_type": "code",
      "metadata": {
        "colab": {
          "base_uri": "https://localhost:8080/",
          "height": 235
        },
        "id": "mVdM4NLTPXNZ",
        "outputId": "47384d7f-4f03-472a-f529-9f9683bdf5af"
      },
      "source": [
        "df.loc[:, [\"A\", \"B\"]]"
      ],
      "execution_count": 17,
      "outputs": [
        {
          "output_type": "execute_result",
          "data": {
            "text/html": [
              "<div>\n",
              "<style scoped>\n",
              "    .dataframe tbody tr th:only-of-type {\n",
              "        vertical-align: middle;\n",
              "    }\n",
              "\n",
              "    .dataframe tbody tr th {\n",
              "        vertical-align: top;\n",
              "    }\n",
              "\n",
              "    .dataframe thead th {\n",
              "        text-align: right;\n",
              "    }\n",
              "</style>\n",
              "<table border=\"1\" class=\"dataframe\">\n",
              "  <thead>\n",
              "    <tr style=\"text-align: right;\">\n",
              "      <th></th>\n",
              "      <th>A</th>\n",
              "      <th>B</th>\n",
              "    </tr>\n",
              "  </thead>\n",
              "  <tbody>\n",
              "    <tr>\n",
              "      <th>2021-01-01</th>\n",
              "      <td>-2.458308</td>\n",
              "      <td>-0.475099</td>\n",
              "    </tr>\n",
              "    <tr>\n",
              "      <th>2021-01-02</th>\n",
              "      <td>-1.038869</td>\n",
              "      <td>0.175282</td>\n",
              "    </tr>\n",
              "    <tr>\n",
              "      <th>2021-01-03</th>\n",
              "      <td>-0.129527</td>\n",
              "      <td>-0.287304</td>\n",
              "    </tr>\n",
              "    <tr>\n",
              "      <th>2021-01-04</th>\n",
              "      <td>-0.952431</td>\n",
              "      <td>0.252947</td>\n",
              "    </tr>\n",
              "    <tr>\n",
              "      <th>2021-01-05</th>\n",
              "      <td>1.721396</td>\n",
              "      <td>0.565802</td>\n",
              "    </tr>\n",
              "    <tr>\n",
              "      <th>2021-01-06</th>\n",
              "      <td>-0.675890</td>\n",
              "      <td>1.072730</td>\n",
              "    </tr>\n",
              "  </tbody>\n",
              "</table>\n",
              "</div>"
            ],
            "text/plain": [
              "                   A         B\n",
              "2021-01-01 -2.458308 -0.475099\n",
              "2021-01-02 -1.038869  0.175282\n",
              "2021-01-03 -0.129527 -0.287304\n",
              "2021-01-04 -0.952431  0.252947\n",
              "2021-01-05  1.721396  0.565802\n",
              "2021-01-06 -0.675890  1.072730"
            ]
          },
          "metadata": {
            "tags": []
          },
          "execution_count": 17
        }
      ]
    },
    {
      "cell_type": "markdown",
      "metadata": {
        "id": "Ir2ekCf_P5Go"
      },
      "source": [
        "Showing label slicing, both endpoints are included:\n",
        "\n"
      ]
    },
    {
      "cell_type": "code",
      "metadata": {
        "colab": {
          "base_uri": "https://localhost:8080/",
          "height": 173
        },
        "id": "hvmEQEPrP6N_",
        "outputId": "bae5d4c3-2ade-4e80-fd78-d151d57f5e5b"
      },
      "source": [
        "df.loc[\"20210101\":\"20210104\",[\"C\",\"D\"]]"
      ],
      "execution_count": 19,
      "outputs": [
        {
          "output_type": "execute_result",
          "data": {
            "text/html": [
              "<div>\n",
              "<style scoped>\n",
              "    .dataframe tbody tr th:only-of-type {\n",
              "        vertical-align: middle;\n",
              "    }\n",
              "\n",
              "    .dataframe tbody tr th {\n",
              "        vertical-align: top;\n",
              "    }\n",
              "\n",
              "    .dataframe thead th {\n",
              "        text-align: right;\n",
              "    }\n",
              "</style>\n",
              "<table border=\"1\" class=\"dataframe\">\n",
              "  <thead>\n",
              "    <tr style=\"text-align: right;\">\n",
              "      <th></th>\n",
              "      <th>C</th>\n",
              "      <th>D</th>\n",
              "    </tr>\n",
              "  </thead>\n",
              "  <tbody>\n",
              "    <tr>\n",
              "      <th>2021-01-01</th>\n",
              "      <td>-0.601716</td>\n",
              "      <td>1.281921</td>\n",
              "    </tr>\n",
              "    <tr>\n",
              "      <th>2021-01-02</th>\n",
              "      <td>-0.370157</td>\n",
              "      <td>-0.045720</td>\n",
              "    </tr>\n",
              "    <tr>\n",
              "      <th>2021-01-03</th>\n",
              "      <td>-0.484458</td>\n",
              "      <td>-1.429564</td>\n",
              "    </tr>\n",
              "    <tr>\n",
              "      <th>2021-01-04</th>\n",
              "      <td>-1.321649</td>\n",
              "      <td>0.248919</td>\n",
              "    </tr>\n",
              "  </tbody>\n",
              "</table>\n",
              "</div>"
            ],
            "text/plain": [
              "                   C         D\n",
              "2021-01-01 -0.601716  1.281921\n",
              "2021-01-02 -0.370157 -0.045720\n",
              "2021-01-03 -0.484458 -1.429564\n",
              "2021-01-04 -1.321649  0.248919"
            ]
          },
          "metadata": {
            "tags": []
          },
          "execution_count": 19
        }
      ]
    },
    {
      "cell_type": "markdown",
      "metadata": {
        "id": "5lZBmewOQTtp"
      },
      "source": [
        "Reduction in the dimensions of the returned object:"
      ]
    },
    {
      "cell_type": "code",
      "metadata": {
        "colab": {
          "base_uri": "https://localhost:8080/"
        },
        "id": "yMy6OJ13QVjt",
        "outputId": "c9901644-ec84-4364-94c1-fed77bcd2f37"
      },
      "source": [
        "df.loc[\"20210101\",[\"A\",\"B\"]]"
      ],
      "execution_count": 20,
      "outputs": [
        {
          "output_type": "execute_result",
          "data": {
            "text/plain": [
              "A   -2.458308\n",
              "B   -0.475099\n",
              "Name: 2021-01-01 00:00:00, dtype: float64"
            ]
          },
          "metadata": {
            "tags": []
          },
          "execution_count": 20
        }
      ]
    },
    {
      "cell_type": "markdown",
      "metadata": {
        "id": "UswNYwbSQlJZ"
      },
      "source": [
        "For getting a scalar value:"
      ]
    },
    {
      "cell_type": "code",
      "metadata": {
        "colab": {
          "base_uri": "https://localhost:8080/"
        },
        "id": "F9hlbdR4Ql7g",
        "outputId": "81a41ac9-ec7a-4141-d58a-578f9f11f4ae"
      },
      "source": [
        "df.loc[dates[0], \"A\"]"
      ],
      "execution_count": 22,
      "outputs": [
        {
          "output_type": "execute_result",
          "data": {
            "text/plain": [
              "-2.458307618646228"
            ]
          },
          "metadata": {
            "tags": []
          },
          "execution_count": 22
        }
      ]
    },
    {
      "cell_type": "markdown",
      "metadata": {
        "id": "En6WFxu_Q2BG"
      },
      "source": [
        "For getting fast access to a scalar (equivalent to the prior method):"
      ]
    },
    {
      "cell_type": "code",
      "metadata": {
        "colab": {
          "base_uri": "https://localhost:8080/"
        },
        "id": "NySowiCPQ2qi",
        "outputId": "ec13ae9b-8572-4cff-f8fb-fb56983e3f0c"
      },
      "source": [
        "df.at[dates[0], \"A\"]"
      ],
      "execution_count": 23,
      "outputs": [
        {
          "output_type": "execute_result",
          "data": {
            "text/plain": [
              "-2.458307618646228"
            ]
          },
          "metadata": {
            "tags": []
          },
          "execution_count": 23
        }
      ]
    },
    {
      "cell_type": "markdown",
      "metadata": {
        "id": "frvnk1e7ROm6"
      },
      "source": [
        "Select via the position of the passed integers:"
      ]
    },
    {
      "cell_type": "code",
      "metadata": {
        "colab": {
          "base_uri": "https://localhost:8080/"
        },
        "id": "7czj1DP1RPNY",
        "outputId": "f4be1d25-e320-4d8d-81c1-235be03d8d12"
      },
      "source": [
        "df.iloc[3]"
      ],
      "execution_count": 24,
      "outputs": [
        {
          "output_type": "execute_result",
          "data": {
            "text/plain": [
              "A   -0.952431\n",
              "B    0.252947\n",
              "C   -1.321649\n",
              "D    0.248919\n",
              "Name: 2021-01-04 00:00:00, dtype: float64"
            ]
          },
          "metadata": {
            "tags": []
          },
          "execution_count": 24
        }
      ]
    },
    {
      "cell_type": "markdown",
      "metadata": {
        "id": "j8ffqOQrRZ9h"
      },
      "source": [
        "By integer slices, acting similar to numpy/Python:"
      ]
    },
    {
      "cell_type": "code",
      "metadata": {
        "colab": {
          "base_uri": "https://localhost:8080/",
          "height": 111
        },
        "id": "f7yz1ULFRajS",
        "outputId": "409c0d06-a1e7-4f16-f47c-dae521f6f305"
      },
      "source": [
        "df.iloc[3:5, 0:2]"
      ],
      "execution_count": 26,
      "outputs": [
        {
          "output_type": "execute_result",
          "data": {
            "text/html": [
              "<div>\n",
              "<style scoped>\n",
              "    .dataframe tbody tr th:only-of-type {\n",
              "        vertical-align: middle;\n",
              "    }\n",
              "\n",
              "    .dataframe tbody tr th {\n",
              "        vertical-align: top;\n",
              "    }\n",
              "\n",
              "    .dataframe thead th {\n",
              "        text-align: right;\n",
              "    }\n",
              "</style>\n",
              "<table border=\"1\" class=\"dataframe\">\n",
              "  <thead>\n",
              "    <tr style=\"text-align: right;\">\n",
              "      <th></th>\n",
              "      <th>A</th>\n",
              "      <th>B</th>\n",
              "    </tr>\n",
              "  </thead>\n",
              "  <tbody>\n",
              "    <tr>\n",
              "      <th>2021-01-04</th>\n",
              "      <td>-0.952431</td>\n",
              "      <td>0.252947</td>\n",
              "    </tr>\n",
              "    <tr>\n",
              "      <th>2021-01-05</th>\n",
              "      <td>1.721396</td>\n",
              "      <td>0.565802</td>\n",
              "    </tr>\n",
              "  </tbody>\n",
              "</table>\n",
              "</div>"
            ],
            "text/plain": [
              "                   A         B\n",
              "2021-01-04 -0.952431  0.252947\n",
              "2021-01-05  1.721396  0.565802"
            ]
          },
          "metadata": {
            "tags": []
          },
          "execution_count": 26
        }
      ]
    },
    {
      "cell_type": "markdown",
      "metadata": {
        "id": "uMTOQHuZR25_"
      },
      "source": [
        "By lists of integer position locations, similar to the NumPy/Python style:"
      ]
    },
    {
      "cell_type": "code",
      "metadata": {
        "colab": {
          "base_uri": "https://localhost:8080/",
          "height": 142
        },
        "id": "5iQ8GHk4R3R4",
        "outputId": "7aa4e589-44d0-4856-8c0c-ebf40fb15d26"
      },
      "source": [
        "df.iloc[[1,2,4], [0,2]]"
      ],
      "execution_count": 29,
      "outputs": [
        {
          "output_type": "execute_result",
          "data": {
            "text/html": [
              "<div>\n",
              "<style scoped>\n",
              "    .dataframe tbody tr th:only-of-type {\n",
              "        vertical-align: middle;\n",
              "    }\n",
              "\n",
              "    .dataframe tbody tr th {\n",
              "        vertical-align: top;\n",
              "    }\n",
              "\n",
              "    .dataframe thead th {\n",
              "        text-align: right;\n",
              "    }\n",
              "</style>\n",
              "<table border=\"1\" class=\"dataframe\">\n",
              "  <thead>\n",
              "    <tr style=\"text-align: right;\">\n",
              "      <th></th>\n",
              "      <th>A</th>\n",
              "      <th>C</th>\n",
              "    </tr>\n",
              "  </thead>\n",
              "  <tbody>\n",
              "    <tr>\n",
              "      <th>2021-01-02</th>\n",
              "      <td>-1.038869</td>\n",
              "      <td>-0.370157</td>\n",
              "    </tr>\n",
              "    <tr>\n",
              "      <th>2021-01-03</th>\n",
              "      <td>-0.129527</td>\n",
              "      <td>-0.484458</td>\n",
              "    </tr>\n",
              "    <tr>\n",
              "      <th>2021-01-05</th>\n",
              "      <td>1.721396</td>\n",
              "      <td>-0.995745</td>\n",
              "    </tr>\n",
              "  </tbody>\n",
              "</table>\n",
              "</div>"
            ],
            "text/plain": [
              "                   A         C\n",
              "2021-01-02 -1.038869 -0.370157\n",
              "2021-01-03 -0.129527 -0.484458\n",
              "2021-01-05  1.721396 -0.995745"
            ]
          },
          "metadata": {
            "tags": []
          },
          "execution_count": 29
        }
      ]
    },
    {
      "cell_type": "markdown",
      "metadata": {
        "id": "wPXPjWbHSDz6"
      },
      "source": [
        "For slicing rows explicitly:"
      ]
    },
    {
      "cell_type": "code",
      "metadata": {
        "colab": {
          "base_uri": "https://localhost:8080/",
          "height": 111
        },
        "id": "wgSJADMgSEPt",
        "outputId": "c268eac0-ef84-4e0a-c48f-e687fb509459"
      },
      "source": [
        "df.iloc[1:3, :]"
      ],
      "execution_count": 30,
      "outputs": [
        {
          "output_type": "execute_result",
          "data": {
            "text/html": [
              "<div>\n",
              "<style scoped>\n",
              "    .dataframe tbody tr th:only-of-type {\n",
              "        vertical-align: middle;\n",
              "    }\n",
              "\n",
              "    .dataframe tbody tr th {\n",
              "        vertical-align: top;\n",
              "    }\n",
              "\n",
              "    .dataframe thead th {\n",
              "        text-align: right;\n",
              "    }\n",
              "</style>\n",
              "<table border=\"1\" class=\"dataframe\">\n",
              "  <thead>\n",
              "    <tr style=\"text-align: right;\">\n",
              "      <th></th>\n",
              "      <th>A</th>\n",
              "      <th>B</th>\n",
              "      <th>C</th>\n",
              "      <th>D</th>\n",
              "    </tr>\n",
              "  </thead>\n",
              "  <tbody>\n",
              "    <tr>\n",
              "      <th>2021-01-02</th>\n",
              "      <td>-1.038869</td>\n",
              "      <td>0.175282</td>\n",
              "      <td>-0.370157</td>\n",
              "      <td>-0.045720</td>\n",
              "    </tr>\n",
              "    <tr>\n",
              "      <th>2021-01-03</th>\n",
              "      <td>-0.129527</td>\n",
              "      <td>-0.287304</td>\n",
              "      <td>-0.484458</td>\n",
              "      <td>-1.429564</td>\n",
              "    </tr>\n",
              "  </tbody>\n",
              "</table>\n",
              "</div>"
            ],
            "text/plain": [
              "                   A         B         C         D\n",
              "2021-01-02 -1.038869  0.175282 -0.370157 -0.045720\n",
              "2021-01-03 -0.129527 -0.287304 -0.484458 -1.429564"
            ]
          },
          "metadata": {
            "tags": []
          },
          "execution_count": 30
        }
      ]
    },
    {
      "cell_type": "markdown",
      "metadata": {
        "id": "g453kQz5SLAb"
      },
      "source": [
        "For slicing columns explicitly:"
      ]
    },
    {
      "cell_type": "code",
      "metadata": {
        "colab": {
          "base_uri": "https://localhost:8080/",
          "height": 235
        },
        "id": "Yh099A4lSLZ_",
        "outputId": "b4675582-c891-4f5c-92b7-31aaa3985b1b"
      },
      "source": [
        "df.iloc[:, 1:3]"
      ],
      "execution_count": 31,
      "outputs": [
        {
          "output_type": "execute_result",
          "data": {
            "text/html": [
              "<div>\n",
              "<style scoped>\n",
              "    .dataframe tbody tr th:only-of-type {\n",
              "        vertical-align: middle;\n",
              "    }\n",
              "\n",
              "    .dataframe tbody tr th {\n",
              "        vertical-align: top;\n",
              "    }\n",
              "\n",
              "    .dataframe thead th {\n",
              "        text-align: right;\n",
              "    }\n",
              "</style>\n",
              "<table border=\"1\" class=\"dataframe\">\n",
              "  <thead>\n",
              "    <tr style=\"text-align: right;\">\n",
              "      <th></th>\n",
              "      <th>B</th>\n",
              "      <th>C</th>\n",
              "    </tr>\n",
              "  </thead>\n",
              "  <tbody>\n",
              "    <tr>\n",
              "      <th>2021-01-01</th>\n",
              "      <td>-0.475099</td>\n",
              "      <td>-0.601716</td>\n",
              "    </tr>\n",
              "    <tr>\n",
              "      <th>2021-01-02</th>\n",
              "      <td>0.175282</td>\n",
              "      <td>-0.370157</td>\n",
              "    </tr>\n",
              "    <tr>\n",
              "      <th>2021-01-03</th>\n",
              "      <td>-0.287304</td>\n",
              "      <td>-0.484458</td>\n",
              "    </tr>\n",
              "    <tr>\n",
              "      <th>2021-01-04</th>\n",
              "      <td>0.252947</td>\n",
              "      <td>-1.321649</td>\n",
              "    </tr>\n",
              "    <tr>\n",
              "      <th>2021-01-05</th>\n",
              "      <td>0.565802</td>\n",
              "      <td>-0.995745</td>\n",
              "    </tr>\n",
              "    <tr>\n",
              "      <th>2021-01-06</th>\n",
              "      <td>1.072730</td>\n",
              "      <td>0.473336</td>\n",
              "    </tr>\n",
              "  </tbody>\n",
              "</table>\n",
              "</div>"
            ],
            "text/plain": [
              "                   B         C\n",
              "2021-01-01 -0.475099 -0.601716\n",
              "2021-01-02  0.175282 -0.370157\n",
              "2021-01-03 -0.287304 -0.484458\n",
              "2021-01-04  0.252947 -1.321649\n",
              "2021-01-05  0.565802 -0.995745\n",
              "2021-01-06  1.072730  0.473336"
            ]
          },
          "metadata": {
            "tags": []
          },
          "execution_count": 31
        }
      ]
    },
    {
      "cell_type": "markdown",
      "metadata": {
        "id": "ryliiSwtSRvX"
      },
      "source": [
        "For getting a value explicitly:"
      ]
    },
    {
      "cell_type": "code",
      "metadata": {
        "colab": {
          "base_uri": "https://localhost:8080/"
        },
        "id": "h2g5ZbyfSSIC",
        "outputId": "7c33acd0-72a3-4a9e-9792-6fc1facc2cc6"
      },
      "source": [
        "df.iloc[1,1]"
      ],
      "execution_count": 32,
      "outputs": [
        {
          "output_type": "execute_result",
          "data": {
            "text/plain": [
              "0.17528229736633189"
            ]
          },
          "metadata": {
            "tags": []
          },
          "execution_count": 32
        }
      ]
    },
    {
      "cell_type": "markdown",
      "metadata": {
        "id": "Y_L_yz7gSX9x"
      },
      "source": [
        "For getting fast access to a scalar (equivalent to the prior method):"
      ]
    },
    {
      "cell_type": "code",
      "metadata": {
        "colab": {
          "base_uri": "https://localhost:8080/"
        },
        "id": "5Di5ZFsxSYcL",
        "outputId": "acd0351d-d136-4138-898c-379da9edc468"
      },
      "source": [
        "df.iat[1, 1]"
      ],
      "execution_count": 33,
      "outputs": [
        {
          "output_type": "execute_result",
          "data": {
            "text/plain": [
              "0.17528229736633189"
            ]
          },
          "metadata": {
            "tags": []
          },
          "execution_count": 33
        }
      ]
    },
    {
      "cell_type": "markdown",
      "metadata": {
        "id": "KyPPTIaRThBd"
      },
      "source": [
        "Using a single column’s values to select data."
      ]
    },
    {
      "cell_type": "code",
      "metadata": {
        "colab": {
          "base_uri": "https://localhost:8080/",
          "height": 80
        },
        "id": "xiUcuB6sTk-I",
        "outputId": "ffef966a-a697-4857-9036-46579d8158d8"
      },
      "source": [
        "df[df[\"A\"] >0 ]"
      ],
      "execution_count": 34,
      "outputs": [
        {
          "output_type": "execute_result",
          "data": {
            "text/html": [
              "<div>\n",
              "<style scoped>\n",
              "    .dataframe tbody tr th:only-of-type {\n",
              "        vertical-align: middle;\n",
              "    }\n",
              "\n",
              "    .dataframe tbody tr th {\n",
              "        vertical-align: top;\n",
              "    }\n",
              "\n",
              "    .dataframe thead th {\n",
              "        text-align: right;\n",
              "    }\n",
              "</style>\n",
              "<table border=\"1\" class=\"dataframe\">\n",
              "  <thead>\n",
              "    <tr style=\"text-align: right;\">\n",
              "      <th></th>\n",
              "      <th>A</th>\n",
              "      <th>B</th>\n",
              "      <th>C</th>\n",
              "      <th>D</th>\n",
              "    </tr>\n",
              "  </thead>\n",
              "  <tbody>\n",
              "    <tr>\n",
              "      <th>2021-01-05</th>\n",
              "      <td>1.721396</td>\n",
              "      <td>0.565802</td>\n",
              "      <td>-0.995745</td>\n",
              "      <td>-0.188781</td>\n",
              "    </tr>\n",
              "  </tbody>\n",
              "</table>\n",
              "</div>"
            ],
            "text/plain": [
              "                   A         B         C         D\n",
              "2021-01-05  1.721396  0.565802 -0.995745 -0.188781"
            ]
          },
          "metadata": {
            "tags": []
          },
          "execution_count": 34
        }
      ]
    },
    {
      "cell_type": "markdown",
      "metadata": {
        "id": "b45a_hTuTtpf"
      },
      "source": [
        "Selecting values from a DataFrame where a boolean condition is met."
      ]
    },
    {
      "cell_type": "code",
      "metadata": {
        "colab": {
          "base_uri": "https://localhost:8080/",
          "height": 235
        },
        "id": "FND9fRBLTvFJ",
        "outputId": "c27965a7-12ed-40cf-8639-c849962051d4"
      },
      "source": [
        "df[df>0]"
      ],
      "execution_count": 60,
      "outputs": [
        {
          "output_type": "execute_result",
          "data": {
            "text/html": [
              "<div>\n",
              "<style scoped>\n",
              "    .dataframe tbody tr th:only-of-type {\n",
              "        vertical-align: middle;\n",
              "    }\n",
              "\n",
              "    .dataframe tbody tr th {\n",
              "        vertical-align: top;\n",
              "    }\n",
              "\n",
              "    .dataframe thead th {\n",
              "        text-align: right;\n",
              "    }\n",
              "</style>\n",
              "<table border=\"1\" class=\"dataframe\">\n",
              "  <thead>\n",
              "    <tr style=\"text-align: right;\">\n",
              "      <th></th>\n",
              "      <th>A</th>\n",
              "      <th>B</th>\n",
              "      <th>C</th>\n",
              "      <th>D</th>\n",
              "      <th>F</th>\n",
              "    </tr>\n",
              "  </thead>\n",
              "  <tbody>\n",
              "    <tr>\n",
              "      <th>2021-01-01</th>\n",
              "      <td>NaN</td>\n",
              "      <td>NaN</td>\n",
              "      <td>NaN</td>\n",
              "      <td>5</td>\n",
              "      <td>NaN</td>\n",
              "    </tr>\n",
              "    <tr>\n",
              "      <th>2021-01-02</th>\n",
              "      <td>NaN</td>\n",
              "      <td>0.175282</td>\n",
              "      <td>NaN</td>\n",
              "      <td>5</td>\n",
              "      <td>1.0</td>\n",
              "    </tr>\n",
              "    <tr>\n",
              "      <th>2021-01-03</th>\n",
              "      <td>NaN</td>\n",
              "      <td>NaN</td>\n",
              "      <td>NaN</td>\n",
              "      <td>5</td>\n",
              "      <td>2.0</td>\n",
              "    </tr>\n",
              "    <tr>\n",
              "      <th>2021-01-04</th>\n",
              "      <td>NaN</td>\n",
              "      <td>0.252947</td>\n",
              "      <td>NaN</td>\n",
              "      <td>5</td>\n",
              "      <td>3.0</td>\n",
              "    </tr>\n",
              "    <tr>\n",
              "      <th>2021-01-05</th>\n",
              "      <td>1.721396</td>\n",
              "      <td>0.565802</td>\n",
              "      <td>NaN</td>\n",
              "      <td>5</td>\n",
              "      <td>4.0</td>\n",
              "    </tr>\n",
              "    <tr>\n",
              "      <th>2021-01-06</th>\n",
              "      <td>NaN</td>\n",
              "      <td>1.072730</td>\n",
              "      <td>0.473336</td>\n",
              "      <td>5</td>\n",
              "      <td>5.0</td>\n",
              "    </tr>\n",
              "  </tbody>\n",
              "</table>\n",
              "</div>"
            ],
            "text/plain": [
              "                   A         B         C  D    F\n",
              "2021-01-01       NaN       NaN       NaN  5  NaN\n",
              "2021-01-02       NaN  0.175282       NaN  5  1.0\n",
              "2021-01-03       NaN       NaN       NaN  5  2.0\n",
              "2021-01-04       NaN  0.252947       NaN  5  3.0\n",
              "2021-01-05  1.721396  0.565802       NaN  5  4.0\n",
              "2021-01-06       NaN  1.072730  0.473336  5  5.0"
            ]
          },
          "metadata": {
            "tags": []
          },
          "execution_count": 60
        }
      ]
    },
    {
      "cell_type": "markdown",
      "metadata": {
        "id": "k1T1zxWgT1dX"
      },
      "source": [
        "Using the isin() method for filtering:\n"
      ]
    },
    {
      "cell_type": "code",
      "metadata": {
        "colab": {
          "base_uri": "https://localhost:8080/",
          "height": 235
        },
        "id": "3GJJMg7vT2T3",
        "outputId": "f363ed23-6124-44c2-8a01-00724de65503"
      },
      "source": [
        "df2 = df.copy()\n",
        "df2[\"E\"] = [\"one\", \"one\", \"two\", \"three\", \"four\", \"three\"]\n",
        "df2"
      ],
      "execution_count": 37,
      "outputs": [
        {
          "output_type": "execute_result",
          "data": {
            "text/html": [
              "<div>\n",
              "<style scoped>\n",
              "    .dataframe tbody tr th:only-of-type {\n",
              "        vertical-align: middle;\n",
              "    }\n",
              "\n",
              "    .dataframe tbody tr th {\n",
              "        vertical-align: top;\n",
              "    }\n",
              "\n",
              "    .dataframe thead th {\n",
              "        text-align: right;\n",
              "    }\n",
              "</style>\n",
              "<table border=\"1\" class=\"dataframe\">\n",
              "  <thead>\n",
              "    <tr style=\"text-align: right;\">\n",
              "      <th></th>\n",
              "      <th>A</th>\n",
              "      <th>B</th>\n",
              "      <th>C</th>\n",
              "      <th>D</th>\n",
              "      <th>E</th>\n",
              "    </tr>\n",
              "  </thead>\n",
              "  <tbody>\n",
              "    <tr>\n",
              "      <th>2021-01-01</th>\n",
              "      <td>-2.458308</td>\n",
              "      <td>-0.475099</td>\n",
              "      <td>-0.601716</td>\n",
              "      <td>1.281921</td>\n",
              "      <td>one</td>\n",
              "    </tr>\n",
              "    <tr>\n",
              "      <th>2021-01-02</th>\n",
              "      <td>-1.038869</td>\n",
              "      <td>0.175282</td>\n",
              "      <td>-0.370157</td>\n",
              "      <td>-0.045720</td>\n",
              "      <td>one</td>\n",
              "    </tr>\n",
              "    <tr>\n",
              "      <th>2021-01-03</th>\n",
              "      <td>-0.129527</td>\n",
              "      <td>-0.287304</td>\n",
              "      <td>-0.484458</td>\n",
              "      <td>-1.429564</td>\n",
              "      <td>two</td>\n",
              "    </tr>\n",
              "    <tr>\n",
              "      <th>2021-01-04</th>\n",
              "      <td>-0.952431</td>\n",
              "      <td>0.252947</td>\n",
              "      <td>-1.321649</td>\n",
              "      <td>0.248919</td>\n",
              "      <td>three</td>\n",
              "    </tr>\n",
              "    <tr>\n",
              "      <th>2021-01-05</th>\n",
              "      <td>1.721396</td>\n",
              "      <td>0.565802</td>\n",
              "      <td>-0.995745</td>\n",
              "      <td>-0.188781</td>\n",
              "      <td>four</td>\n",
              "    </tr>\n",
              "    <tr>\n",
              "      <th>2021-01-06</th>\n",
              "      <td>-0.675890</td>\n",
              "      <td>1.072730</td>\n",
              "      <td>0.473336</td>\n",
              "      <td>-1.155516</td>\n",
              "      <td>three</td>\n",
              "    </tr>\n",
              "  </tbody>\n",
              "</table>\n",
              "</div>"
            ],
            "text/plain": [
              "                   A         B         C         D      E\n",
              "2021-01-01 -2.458308 -0.475099 -0.601716  1.281921    one\n",
              "2021-01-02 -1.038869  0.175282 -0.370157 -0.045720    one\n",
              "2021-01-03 -0.129527 -0.287304 -0.484458 -1.429564    two\n",
              "2021-01-04 -0.952431  0.252947 -1.321649  0.248919  three\n",
              "2021-01-05  1.721396  0.565802 -0.995745 -0.188781   four\n",
              "2021-01-06 -0.675890  1.072730  0.473336 -1.155516  three"
            ]
          },
          "metadata": {
            "tags": []
          },
          "execution_count": 37
        }
      ]
    },
    {
      "cell_type": "code",
      "metadata": {
        "colab": {
          "base_uri": "https://localhost:8080/",
          "height": 111
        },
        "id": "0jU42nz7UGuA",
        "outputId": "fa592204-77dc-42fa-b930-f145761bc8bb"
      },
      "source": [
        "df2[df2[\"E\"].isin([\"two\",\"four\"])]"
      ],
      "execution_count": 43,
      "outputs": [
        {
          "output_type": "execute_result",
          "data": {
            "text/html": [
              "<div>\n",
              "<style scoped>\n",
              "    .dataframe tbody tr th:only-of-type {\n",
              "        vertical-align: middle;\n",
              "    }\n",
              "\n",
              "    .dataframe tbody tr th {\n",
              "        vertical-align: top;\n",
              "    }\n",
              "\n",
              "    .dataframe thead th {\n",
              "        text-align: right;\n",
              "    }\n",
              "</style>\n",
              "<table border=\"1\" class=\"dataframe\">\n",
              "  <thead>\n",
              "    <tr style=\"text-align: right;\">\n",
              "      <th></th>\n",
              "      <th>A</th>\n",
              "      <th>B</th>\n",
              "      <th>C</th>\n",
              "      <th>D</th>\n",
              "      <th>E</th>\n",
              "    </tr>\n",
              "  </thead>\n",
              "  <tbody>\n",
              "    <tr>\n",
              "      <th>2021-01-03</th>\n",
              "      <td>-0.129527</td>\n",
              "      <td>-0.287304</td>\n",
              "      <td>-0.484458</td>\n",
              "      <td>-1.429564</td>\n",
              "      <td>two</td>\n",
              "    </tr>\n",
              "    <tr>\n",
              "      <th>2021-01-05</th>\n",
              "      <td>1.721396</td>\n",
              "      <td>0.565802</td>\n",
              "      <td>-0.995745</td>\n",
              "      <td>-0.188781</td>\n",
              "      <td>four</td>\n",
              "    </tr>\n",
              "  </tbody>\n",
              "</table>\n",
              "</div>"
            ],
            "text/plain": [
              "                   A         B         C         D     E\n",
              "2021-01-03 -0.129527 -0.287304 -0.484458 -1.429564   two\n",
              "2021-01-05  1.721396  0.565802 -0.995745 -0.188781  four"
            ]
          },
          "metadata": {
            "tags": []
          },
          "execution_count": 43
        }
      ]
    },
    {
      "cell_type": "markdown",
      "metadata": {
        "id": "crnVN3nwVBM7"
      },
      "source": [
        "Setting a new column automatically aligns the data by the indexes."
      ]
    },
    {
      "cell_type": "code",
      "metadata": {
        "colab": {
          "base_uri": "https://localhost:8080/"
        },
        "id": "06oH3uR3VCE8",
        "outputId": "f4edf3d7-dcbc-469f-8dfa-ed2b76cbea24"
      },
      "source": [
        "s1=pd.Series([1,2,3,4,5,6], index=pd.date_range(\"20210102\",periods=6))\n",
        "s1"
      ],
      "execution_count": 46,
      "outputs": [
        {
          "output_type": "execute_result",
          "data": {
            "text/plain": [
              "2021-01-02    1\n",
              "2021-01-03    2\n",
              "2021-01-04    3\n",
              "2021-01-05    4\n",
              "2021-01-06    5\n",
              "2021-01-07    6\n",
              "Freq: D, dtype: int64"
            ]
          },
          "metadata": {
            "tags": []
          },
          "execution_count": 46
        }
      ]
    },
    {
      "cell_type": "code",
      "metadata": {
        "id": "cDmD1xaGWmgB"
      },
      "source": [
        "df[\"F\"]=s1"
      ],
      "execution_count": 48,
      "outputs": []
    },
    {
      "cell_type": "markdown",
      "metadata": {
        "id": "qQuT6vwnWr4s"
      },
      "source": [
        "Setting values by label:"
      ]
    },
    {
      "cell_type": "code",
      "metadata": {
        "colab": {
          "base_uri": "https://localhost:8080/",
          "height": 235
        },
        "id": "OSeFXxjPWscp",
        "outputId": "2d860810-0879-402f-a07d-101204b879ee"
      },
      "source": [
        "df.at[dates[0], \"A\"] =0\n",
        "df"
      ],
      "execution_count": 49,
      "outputs": [
        {
          "output_type": "execute_result",
          "data": {
            "text/html": [
              "<div>\n",
              "<style scoped>\n",
              "    .dataframe tbody tr th:only-of-type {\n",
              "        vertical-align: middle;\n",
              "    }\n",
              "\n",
              "    .dataframe tbody tr th {\n",
              "        vertical-align: top;\n",
              "    }\n",
              "\n",
              "    .dataframe thead th {\n",
              "        text-align: right;\n",
              "    }\n",
              "</style>\n",
              "<table border=\"1\" class=\"dataframe\">\n",
              "  <thead>\n",
              "    <tr style=\"text-align: right;\">\n",
              "      <th></th>\n",
              "      <th>A</th>\n",
              "      <th>B</th>\n",
              "      <th>C</th>\n",
              "      <th>D</th>\n",
              "      <th>F</th>\n",
              "    </tr>\n",
              "  </thead>\n",
              "  <tbody>\n",
              "    <tr>\n",
              "      <th>2021-01-01</th>\n",
              "      <td>0.000000</td>\n",
              "      <td>-0.475099</td>\n",
              "      <td>-0.601716</td>\n",
              "      <td>1.281921</td>\n",
              "      <td>NaN</td>\n",
              "    </tr>\n",
              "    <tr>\n",
              "      <th>2021-01-02</th>\n",
              "      <td>-1.038869</td>\n",
              "      <td>0.175282</td>\n",
              "      <td>-0.370157</td>\n",
              "      <td>-0.045720</td>\n",
              "      <td>1.0</td>\n",
              "    </tr>\n",
              "    <tr>\n",
              "      <th>2021-01-03</th>\n",
              "      <td>-0.129527</td>\n",
              "      <td>-0.287304</td>\n",
              "      <td>-0.484458</td>\n",
              "      <td>-1.429564</td>\n",
              "      <td>2.0</td>\n",
              "    </tr>\n",
              "    <tr>\n",
              "      <th>2021-01-04</th>\n",
              "      <td>-0.952431</td>\n",
              "      <td>0.252947</td>\n",
              "      <td>-1.321649</td>\n",
              "      <td>0.248919</td>\n",
              "      <td>3.0</td>\n",
              "    </tr>\n",
              "    <tr>\n",
              "      <th>2021-01-05</th>\n",
              "      <td>1.721396</td>\n",
              "      <td>0.565802</td>\n",
              "      <td>-0.995745</td>\n",
              "      <td>-0.188781</td>\n",
              "      <td>4.0</td>\n",
              "    </tr>\n",
              "    <tr>\n",
              "      <th>2021-01-06</th>\n",
              "      <td>-0.675890</td>\n",
              "      <td>1.072730</td>\n",
              "      <td>0.473336</td>\n",
              "      <td>-1.155516</td>\n",
              "      <td>5.0</td>\n",
              "    </tr>\n",
              "  </tbody>\n",
              "</table>\n",
              "</div>"
            ],
            "text/plain": [
              "                   A         B         C         D    F\n",
              "2021-01-01  0.000000 -0.475099 -0.601716  1.281921  NaN\n",
              "2021-01-02 -1.038869  0.175282 -0.370157 -0.045720  1.0\n",
              "2021-01-03 -0.129527 -0.287304 -0.484458 -1.429564  2.0\n",
              "2021-01-04 -0.952431  0.252947 -1.321649  0.248919  3.0\n",
              "2021-01-05  1.721396  0.565802 -0.995745 -0.188781  4.0\n",
              "2021-01-06 -0.675890  1.072730  0.473336 -1.155516  5.0"
            ]
          },
          "metadata": {
            "tags": []
          },
          "execution_count": 49
        }
      ]
    },
    {
      "cell_type": "markdown",
      "metadata": {
        "id": "juYPPnTlW4OO"
      },
      "source": [
        "Setting values by position:"
      ]
    },
    {
      "cell_type": "code",
      "metadata": {
        "colab": {
          "base_uri": "https://localhost:8080/",
          "height": 235
        },
        "id": "fRQ7foGQW46s",
        "outputId": "42fe3de3-eb4e-473b-e7b7-a4be34031aa5"
      },
      "source": [
        "df.iat[0,1] =0\n",
        "df"
      ],
      "execution_count": 50,
      "outputs": [
        {
          "output_type": "execute_result",
          "data": {
            "text/html": [
              "<div>\n",
              "<style scoped>\n",
              "    .dataframe tbody tr th:only-of-type {\n",
              "        vertical-align: middle;\n",
              "    }\n",
              "\n",
              "    .dataframe tbody tr th {\n",
              "        vertical-align: top;\n",
              "    }\n",
              "\n",
              "    .dataframe thead th {\n",
              "        text-align: right;\n",
              "    }\n",
              "</style>\n",
              "<table border=\"1\" class=\"dataframe\">\n",
              "  <thead>\n",
              "    <tr style=\"text-align: right;\">\n",
              "      <th></th>\n",
              "      <th>A</th>\n",
              "      <th>B</th>\n",
              "      <th>C</th>\n",
              "      <th>D</th>\n",
              "      <th>F</th>\n",
              "    </tr>\n",
              "  </thead>\n",
              "  <tbody>\n",
              "    <tr>\n",
              "      <th>2021-01-01</th>\n",
              "      <td>0.000000</td>\n",
              "      <td>0.000000</td>\n",
              "      <td>-0.601716</td>\n",
              "      <td>1.281921</td>\n",
              "      <td>NaN</td>\n",
              "    </tr>\n",
              "    <tr>\n",
              "      <th>2021-01-02</th>\n",
              "      <td>-1.038869</td>\n",
              "      <td>0.175282</td>\n",
              "      <td>-0.370157</td>\n",
              "      <td>-0.045720</td>\n",
              "      <td>1.0</td>\n",
              "    </tr>\n",
              "    <tr>\n",
              "      <th>2021-01-03</th>\n",
              "      <td>-0.129527</td>\n",
              "      <td>-0.287304</td>\n",
              "      <td>-0.484458</td>\n",
              "      <td>-1.429564</td>\n",
              "      <td>2.0</td>\n",
              "    </tr>\n",
              "    <tr>\n",
              "      <th>2021-01-04</th>\n",
              "      <td>-0.952431</td>\n",
              "      <td>0.252947</td>\n",
              "      <td>-1.321649</td>\n",
              "      <td>0.248919</td>\n",
              "      <td>3.0</td>\n",
              "    </tr>\n",
              "    <tr>\n",
              "      <th>2021-01-05</th>\n",
              "      <td>1.721396</td>\n",
              "      <td>0.565802</td>\n",
              "      <td>-0.995745</td>\n",
              "      <td>-0.188781</td>\n",
              "      <td>4.0</td>\n",
              "    </tr>\n",
              "    <tr>\n",
              "      <th>2021-01-06</th>\n",
              "      <td>-0.675890</td>\n",
              "      <td>1.072730</td>\n",
              "      <td>0.473336</td>\n",
              "      <td>-1.155516</td>\n",
              "      <td>5.0</td>\n",
              "    </tr>\n",
              "  </tbody>\n",
              "</table>\n",
              "</div>"
            ],
            "text/plain": [
              "                   A         B         C         D    F\n",
              "2021-01-01  0.000000  0.000000 -0.601716  1.281921  NaN\n",
              "2021-01-02 -1.038869  0.175282 -0.370157 -0.045720  1.0\n",
              "2021-01-03 -0.129527 -0.287304 -0.484458 -1.429564  2.0\n",
              "2021-01-04 -0.952431  0.252947 -1.321649  0.248919  3.0\n",
              "2021-01-05  1.721396  0.565802 -0.995745 -0.188781  4.0\n",
              "2021-01-06 -0.675890  1.072730  0.473336 -1.155516  5.0"
            ]
          },
          "metadata": {
            "tags": []
          },
          "execution_count": 50
        }
      ]
    },
    {
      "cell_type": "markdown",
      "metadata": {
        "id": "HgYqlFHQXMgR"
      },
      "source": [
        "Setting by assigning with a NumPy array:"
      ]
    },
    {
      "cell_type": "code",
      "metadata": {
        "colab": {
          "base_uri": "https://localhost:8080/",
          "height": 235
        },
        "id": "fwZ9Fz6zXNN4",
        "outputId": "2b978182-6409-4c5a-e28a-1d147c83850d"
      },
      "source": [
        "df.loc[:, \"D\"] = np.array([5]*len(df))\n",
        "df"
      ],
      "execution_count": 52,
      "outputs": [
        {
          "output_type": "execute_result",
          "data": {
            "text/html": [
              "<div>\n",
              "<style scoped>\n",
              "    .dataframe tbody tr th:only-of-type {\n",
              "        vertical-align: middle;\n",
              "    }\n",
              "\n",
              "    .dataframe tbody tr th {\n",
              "        vertical-align: top;\n",
              "    }\n",
              "\n",
              "    .dataframe thead th {\n",
              "        text-align: right;\n",
              "    }\n",
              "</style>\n",
              "<table border=\"1\" class=\"dataframe\">\n",
              "  <thead>\n",
              "    <tr style=\"text-align: right;\">\n",
              "      <th></th>\n",
              "      <th>A</th>\n",
              "      <th>B</th>\n",
              "      <th>C</th>\n",
              "      <th>D</th>\n",
              "      <th>F</th>\n",
              "    </tr>\n",
              "  </thead>\n",
              "  <tbody>\n",
              "    <tr>\n",
              "      <th>2021-01-01</th>\n",
              "      <td>0.000000</td>\n",
              "      <td>0.000000</td>\n",
              "      <td>-0.601716</td>\n",
              "      <td>5</td>\n",
              "      <td>NaN</td>\n",
              "    </tr>\n",
              "    <tr>\n",
              "      <th>2021-01-02</th>\n",
              "      <td>-1.038869</td>\n",
              "      <td>0.175282</td>\n",
              "      <td>-0.370157</td>\n",
              "      <td>5</td>\n",
              "      <td>1.0</td>\n",
              "    </tr>\n",
              "    <tr>\n",
              "      <th>2021-01-03</th>\n",
              "      <td>-0.129527</td>\n",
              "      <td>-0.287304</td>\n",
              "      <td>-0.484458</td>\n",
              "      <td>5</td>\n",
              "      <td>2.0</td>\n",
              "    </tr>\n",
              "    <tr>\n",
              "      <th>2021-01-04</th>\n",
              "      <td>-0.952431</td>\n",
              "      <td>0.252947</td>\n",
              "      <td>-1.321649</td>\n",
              "      <td>5</td>\n",
              "      <td>3.0</td>\n",
              "    </tr>\n",
              "    <tr>\n",
              "      <th>2021-01-05</th>\n",
              "      <td>1.721396</td>\n",
              "      <td>0.565802</td>\n",
              "      <td>-0.995745</td>\n",
              "      <td>5</td>\n",
              "      <td>4.0</td>\n",
              "    </tr>\n",
              "    <tr>\n",
              "      <th>2021-01-06</th>\n",
              "      <td>-0.675890</td>\n",
              "      <td>1.072730</td>\n",
              "      <td>0.473336</td>\n",
              "      <td>5</td>\n",
              "      <td>5.0</td>\n",
              "    </tr>\n",
              "  </tbody>\n",
              "</table>\n",
              "</div>"
            ],
            "text/plain": [
              "                   A         B         C  D    F\n",
              "2021-01-01  0.000000  0.000000 -0.601716  5  NaN\n",
              "2021-01-02 -1.038869  0.175282 -0.370157  5  1.0\n",
              "2021-01-03 -0.129527 -0.287304 -0.484458  5  2.0\n",
              "2021-01-04 -0.952431  0.252947 -1.321649  5  3.0\n",
              "2021-01-05  1.721396  0.565802 -0.995745  5  4.0\n",
              "2021-01-06 -0.675890  1.072730  0.473336  5  5.0"
            ]
          },
          "metadata": {
            "tags": []
          },
          "execution_count": 52
        }
      ]
    },
    {
      "cell_type": "markdown",
      "metadata": {
        "id": "fBYw0yHsXdVd"
      },
      "source": [
        "A where operation with setting."
      ]
    },
    {
      "cell_type": "code",
      "metadata": {
        "colab": {
          "base_uri": "https://localhost:8080/",
          "height": 235
        },
        "id": "7CoweToTXeRU",
        "outputId": "4b96cc95-f2dc-4b3d-fcf3-0dc627266b1a"
      },
      "source": [
        "df2=df.copy()\n",
        "df2[df2>0] = -df2\n",
        "df2"
      ],
      "execution_count": 65,
      "outputs": [
        {
          "output_type": "execute_result",
          "data": {
            "text/html": [
              "<div>\n",
              "<style scoped>\n",
              "    .dataframe tbody tr th:only-of-type {\n",
              "        vertical-align: middle;\n",
              "    }\n",
              "\n",
              "    .dataframe tbody tr th {\n",
              "        vertical-align: top;\n",
              "    }\n",
              "\n",
              "    .dataframe thead th {\n",
              "        text-align: right;\n",
              "    }\n",
              "</style>\n",
              "<table border=\"1\" class=\"dataframe\">\n",
              "  <thead>\n",
              "    <tr style=\"text-align: right;\">\n",
              "      <th></th>\n",
              "      <th>A</th>\n",
              "      <th>B</th>\n",
              "      <th>C</th>\n",
              "      <th>D</th>\n",
              "      <th>F</th>\n",
              "    </tr>\n",
              "  </thead>\n",
              "  <tbody>\n",
              "    <tr>\n",
              "      <th>2021-01-01</th>\n",
              "      <td>0.000000</td>\n",
              "      <td>0.000000</td>\n",
              "      <td>-0.601716</td>\n",
              "      <td>-5</td>\n",
              "      <td>NaN</td>\n",
              "    </tr>\n",
              "    <tr>\n",
              "      <th>2021-01-02</th>\n",
              "      <td>-1.038869</td>\n",
              "      <td>-0.175282</td>\n",
              "      <td>-0.370157</td>\n",
              "      <td>-5</td>\n",
              "      <td>-1.0</td>\n",
              "    </tr>\n",
              "    <tr>\n",
              "      <th>2021-01-03</th>\n",
              "      <td>-0.129527</td>\n",
              "      <td>-0.287304</td>\n",
              "      <td>-0.484458</td>\n",
              "      <td>-5</td>\n",
              "      <td>-2.0</td>\n",
              "    </tr>\n",
              "    <tr>\n",
              "      <th>2021-01-04</th>\n",
              "      <td>-0.952431</td>\n",
              "      <td>-0.252947</td>\n",
              "      <td>-1.321649</td>\n",
              "      <td>-5</td>\n",
              "      <td>-3.0</td>\n",
              "    </tr>\n",
              "    <tr>\n",
              "      <th>2021-01-05</th>\n",
              "      <td>-1.721396</td>\n",
              "      <td>-0.565802</td>\n",
              "      <td>-0.995745</td>\n",
              "      <td>-5</td>\n",
              "      <td>-4.0</td>\n",
              "    </tr>\n",
              "    <tr>\n",
              "      <th>2021-01-06</th>\n",
              "      <td>-0.675890</td>\n",
              "      <td>-1.072730</td>\n",
              "      <td>-0.473336</td>\n",
              "      <td>-5</td>\n",
              "      <td>-5.0</td>\n",
              "    </tr>\n",
              "  </tbody>\n",
              "</table>\n",
              "</div>"
            ],
            "text/plain": [
              "                   A         B         C  D    F\n",
              "2021-01-01  0.000000  0.000000 -0.601716 -5  NaN\n",
              "2021-01-02 -1.038869 -0.175282 -0.370157 -5 -1.0\n",
              "2021-01-03 -0.129527 -0.287304 -0.484458 -5 -2.0\n",
              "2021-01-04 -0.952431 -0.252947 -1.321649 -5 -3.0\n",
              "2021-01-05 -1.721396 -0.565802 -0.995745 -5 -4.0\n",
              "2021-01-06 -0.675890 -1.072730 -0.473336 -5 -5.0"
            ]
          },
          "metadata": {
            "tags": []
          },
          "execution_count": 65
        }
      ]
    }
  ]
}