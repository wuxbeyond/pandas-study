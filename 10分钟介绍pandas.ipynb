{
  "nbformat": 4,
  "nbformat_minor": 0,
  "metadata": {
    "colab": {
      "name": "10分钟介绍pandas.ipynb",
      "provenance": [],
      "authorship_tag": "ABX9TyOr/WUusEtc6nkHwpcwDjfk",
      "include_colab_link": true
    },
    "kernelspec": {
      "name": "python3",
      "display_name": "Python 3"
    },
    "language_info": {
      "name": "python"
    }
  },
  "cells": [
    {
      "cell_type": "markdown",
      "metadata": {
        "id": "view-in-github",
        "colab_type": "text"
      },
      "source": [
        "<a href=\"https://colab.research.google.com/github/wuxbeyond/pandas-study/blob/main/10%E5%88%86%E9%92%9F%E4%BB%8B%E7%BB%8Dpandas.ipynb\" target=\"_parent\"><img src=\"https://colab.research.google.com/assets/colab-badge.svg\" alt=\"Open In Colab\"/></a>"
      ]
    },
    {
      "cell_type": "markdown",
      "metadata": {
        "id": "xMIUntVBWMrx"
      },
      "source": [
        "按照习惯导入包:"
      ]
    },
    {
      "cell_type": "code",
      "metadata": {
        "id": "oB1ynymzWUUy"
      },
      "source": [
        "import numpy as np\n",
        "import pandas as pd"
      ],
      "execution_count": null,
      "outputs": []
    },
    {
      "cell_type": "markdown",
      "metadata": {
        "id": "qIdaynhcWb56"
      },
      "source": [
        "通过传递list方式创建Series，pandas会创建一个默认的integer索引:"
      ]
    },
    {
      "cell_type": "code",
      "metadata": {
        "id": "QOc-8i24W2wq"
      },
      "source": [
        "s = pd.Series([1, 3, 5, np.nan, 6, 8])\n",
        "print(s)"
      ],
      "execution_count": null,
      "outputs": []
    },
    {
      "cell_type": "markdown",
      "metadata": {
        "id": "sZ1nwoj0Xekd"
      },
      "source": [
        "Creating a DataFrame by passing a NumPy array, with a datetime index and labeled columns:"
      ]
    },
    {
      "cell_type": "code",
      "metadata": {
        "id": "rv2F_mOhXflS"
      },
      "source": [
        "dates = pd.date_range(start='20210101', periods=6)\n",
        "#print(dates)\n",
        "df = pd.DataFrame(np.random.randn(6, 4), index=dates, columns=list(\"ABCD\"))\n",
        "print(df)"
      ],
      "execution_count": null,
      "outputs": []
    },
    {
      "cell_type": "markdown",
      "metadata": {
        "id": "-whxkqT_YiUY"
      },
      "source": [
        "Creating a DataFrame by passing a dict of objects that can be converted to series-like."
      ]
    },
    {
      "cell_type": "code",
      "metadata": {
        "id": "3MAH-4XrYlsA"
      },
      "source": [
        ""
      ],
      "execution_count": null,
      "outputs": []
    }
  ]
}